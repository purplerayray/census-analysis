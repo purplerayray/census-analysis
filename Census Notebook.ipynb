{
 "cells": [
  {
   "cell_type": "markdown",
   "id": "c874beae",
   "metadata": {},
   "source": [
    "## Importing Libraries"
   ]
  },
  {
   "cell_type": "code",
   "execution_count": 1,
   "id": "e238b9cf",
   "metadata": {},
   "outputs": [],
   "source": [
    "import pandas as pd\n",
    "import numpy as np\n",
    "import matplotlib.pyplot as plt\n",
    "import seaborn as sns"
   ]
  },
  {
   "cell_type": "markdown",
   "id": "07ab3e0f",
   "metadata": {},
   "source": [
    "## Data Cleaning"
   ]
  },
  {
   "cell_type": "code",
   "execution_count": 2,
   "id": "f740c618",
   "metadata": {},
   "outputs": [],
   "source": [
    "df = pd.read_csv('census_07_2022.csv') # importing csv file as a dataframe"
   ]
  },
  {
   "cell_type": "code",
   "execution_count": 3,
   "id": "b986e613",
   "metadata": {},
   "outputs": [
    {
     "data": {
      "text/html": [
       "<div>\n",
       "<style scoped>\n",
       "    .dataframe tbody tr th:only-of-type {\n",
       "        vertical-align: middle;\n",
       "    }\n",
       "\n",
       "    .dataframe tbody tr th {\n",
       "        vertical-align: top;\n",
       "    }\n",
       "\n",
       "    .dataframe thead th {\n",
       "        text-align: right;\n",
       "    }\n",
       "</style>\n",
       "<table border=\"1\" class=\"dataframe\">\n",
       "  <thead>\n",
       "    <tr style=\"text-align: right;\">\n",
       "      <th></th>\n",
       "      <th>Unnamed: 0</th>\n",
       "      <th>House Number</th>\n",
       "      <th>Street</th>\n",
       "      <th>First Name</th>\n",
       "      <th>Surname</th>\n",
       "      <th>Age</th>\n",
       "      <th>Relationship to Head of House</th>\n",
       "      <th>Marital Status</th>\n",
       "      <th>Gender</th>\n",
       "      <th>Occupation</th>\n",
       "      <th>Infirmity</th>\n",
       "      <th>Religion</th>\n",
       "    </tr>\n",
       "  </thead>\n",
       "  <tbody>\n",
       "    <tr>\n",
       "      <th>0</th>\n",
       "      <td>0</td>\n",
       "      <td>1</td>\n",
       "      <td>Forgotten Gardens</td>\n",
       "      <td>Laura</td>\n",
       "      <td>White</td>\n",
       "      <td>56</td>\n",
       "      <td>Head</td>\n",
       "      <td>Married</td>\n",
       "      <td>Female</td>\n",
       "      <td>Unemployed</td>\n",
       "      <td>None</td>\n",
       "      <td>Christian</td>\n",
       "    </tr>\n",
       "    <tr>\n",
       "      <th>1</th>\n",
       "      <td>1</td>\n",
       "      <td>1</td>\n",
       "      <td>Forgotten Gardens</td>\n",
       "      <td>Elliot</td>\n",
       "      <td>White</td>\n",
       "      <td>57</td>\n",
       "      <td>Husband</td>\n",
       "      <td>Married</td>\n",
       "      <td>Male</td>\n",
       "      <td>Education officer, community</td>\n",
       "      <td>None</td>\n",
       "      <td>Christian</td>\n",
       "    </tr>\n",
       "    <tr>\n",
       "      <th>2</th>\n",
       "      <td>2</td>\n",
       "      <td>1</td>\n",
       "      <td>Forgotten Gardens</td>\n",
       "      <td>Nicole</td>\n",
       "      <td>White</td>\n",
       "      <td>15</td>\n",
       "      <td>Daughter</td>\n",
       "      <td>NaN</td>\n",
       "      <td>Female</td>\n",
       "      <td>Student</td>\n",
       "      <td>None</td>\n",
       "      <td>NaN</td>\n",
       "    </tr>\n",
       "    <tr>\n",
       "      <th>3</th>\n",
       "      <td>3</td>\n",
       "      <td>2</td>\n",
       "      <td>Forgotten Gardens</td>\n",
       "      <td>Michelle</td>\n",
       "      <td>John</td>\n",
       "      <td>44</td>\n",
       "      <td>Head</td>\n",
       "      <td>Divorced</td>\n",
       "      <td>Female</td>\n",
       "      <td>Administrator, arts</td>\n",
       "      <td>None</td>\n",
       "      <td>Christian</td>\n",
       "    </tr>\n",
       "    <tr>\n",
       "      <th>4</th>\n",
       "      <td>4</td>\n",
       "      <td>2</td>\n",
       "      <td>Forgotten Gardens</td>\n",
       "      <td>Jeffrey</td>\n",
       "      <td>John</td>\n",
       "      <td>9</td>\n",
       "      <td>Son</td>\n",
       "      <td>NaN</td>\n",
       "      <td>Male</td>\n",
       "      <td>Student</td>\n",
       "      <td>None</td>\n",
       "      <td>NaN</td>\n",
       "    </tr>\n",
       "  </tbody>\n",
       "</table>\n",
       "</div>"
      ],
      "text/plain": [
       "   Unnamed: 0 House Number             Street First Name Surname Age  \\\n",
       "0           0            1  Forgotten Gardens      Laura   White  56   \n",
       "1           1            1  Forgotten Gardens     Elliot   White  57   \n",
       "2           2            1  Forgotten Gardens     Nicole   White  15   \n",
       "3           3            2  Forgotten Gardens   Michelle    John  44   \n",
       "4           4            2  Forgotten Gardens    Jeffrey    John   9   \n",
       "\n",
       "  Relationship to Head of House Marital Status  Gender  \\\n",
       "0                          Head        Married  Female   \n",
       "1                       Husband        Married    Male   \n",
       "2                      Daughter            NaN  Female   \n",
       "3                          Head       Divorced  Female   \n",
       "4                           Son            NaN    Male   \n",
       "\n",
       "                     Occupation Infirmity   Religion  \n",
       "0                    Unemployed      None  Christian  \n",
       "1  Education officer, community      None  Christian  \n",
       "2                       Student      None        NaN  \n",
       "3           Administrator, arts      None  Christian  \n",
       "4                       Student      None        NaN  "
      ]
     },
     "execution_count": 3,
     "metadata": {},
     "output_type": "execute_result"
    }
   ],
   "source": [
    "df.head()"
   ]
  },
  {
   "cell_type": "code",
   "execution_count": 4,
   "id": "2c4334a3",
   "metadata": {},
   "outputs": [
    {
     "name": "stdout",
     "output_type": "stream",
     "text": [
      "<class 'pandas.core.frame.DataFrame'>\n",
      "RangeIndex: 7773 entries, 0 to 7772\n",
      "Data columns (total 12 columns):\n",
      " #   Column                         Non-Null Count  Dtype \n",
      "---  ------                         --------------  ----- \n",
      " 0   Unnamed: 0                     7773 non-null   int64 \n",
      " 1   House Number                   7773 non-null   object\n",
      " 2   Street                         7773 non-null   object\n",
      " 3   First Name                     7773 non-null   object\n",
      " 4   Surname                        7773 non-null   object\n",
      " 5   Age                            7773 non-null   object\n",
      " 6   Relationship to Head of House  7773 non-null   object\n",
      " 7   Marital Status                 5960 non-null   object\n",
      " 8   Gender                         7773 non-null   object\n",
      " 9   Occupation                     7773 non-null   object\n",
      " 10  Infirmity                      7773 non-null   object\n",
      " 11  Religion                       5910 non-null   object\n",
      "dtypes: int64(1), object(11)\n",
      "memory usage: 728.8+ KB\n"
     ]
    }
   ],
   "source": [
    "# get information about the data\n",
    "df.info()"
   ]
  },
  {
   "cell_type": "code",
   "execution_count": 5,
   "id": "3ba30e77",
   "metadata": {},
   "outputs": [
    {
     "data": {
      "text/plain": [
       "Index(['House Number', 'Street', 'First Name', 'Surname', 'Age',\n",
       "       'Relationship to Head of House', 'Marital Status', 'Gender',\n",
       "       'Occupation', 'Infirmity', 'Religion'],\n",
       "      dtype='object')"
      ]
     },
     "execution_count": 5,
     "metadata": {},
     "output_type": "execute_result"
    }
   ],
   "source": [
    "# Checking that the headers are human readable\n",
    "df = df.drop('Unnamed: 0', axis=1)\n",
    "df.columns"
   ]
  },
  {
   "cell_type": "code",
   "execution_count": 6,
   "id": "7ff4e508",
   "metadata": {},
   "outputs": [],
   "source": [
    "# Removing leading and trailing whitespaces\n",
    "for col in df:\n",
    "    df[col] = df[col].str.strip()"
   ]
  },
  {
   "cell_type": "code",
   "execution_count": 7,
   "id": "ccfa372e",
   "metadata": {},
   "outputs": [
    {
     "data": {
      "text/plain": [
       "0"
      ]
     },
     "execution_count": 7,
     "metadata": {},
     "output_type": "execute_result"
    }
   ],
   "source": [
    "df.duplicated().sum()\n",
    "\n",
    "# No duplicates found"
   ]
  },
  {
   "cell_type": "code",
   "execution_count": 8,
   "id": "95131e57",
   "metadata": {},
   "outputs": [
    {
     "data": {
      "text/plain": [
       "House Number                        0\n",
       "Street                              0\n",
       "First Name                          0\n",
       "Surname                             0\n",
       "Age                                 0\n",
       "Relationship to Head of House       0\n",
       "Marital Status                   1813\n",
       "Gender                              0\n",
       "Occupation                          0\n",
       "Infirmity                           0\n",
       "Religion                         1863\n",
       "dtype: int64"
      ]
     },
     "execution_count": 8,
     "metadata": {},
     "output_type": "execute_result"
    }
   ],
   "source": [
    "# Checking for missing values\n",
    "df.isna().sum()"
   ]
  },
  {
   "cell_type": "code",
   "execution_count": 9,
   "id": "e2bd7283",
   "metadata": {},
   "outputs": [
    {
     "name": "stdout",
     "output_type": "stream",
     "text": [
      "First Name: 2 row(s)\n",
      "Age: 1 row(s)\n",
      "Relationship to Head of House: 1 row(s)\n",
      "Marital Status: 1 row(s)\n",
      "Gender: 1 row(s)\n",
      "Occupation: 1 row(s)\n",
      "Infirmity: 6 row(s)\n",
      "Religion: 3 row(s)\n"
     ]
    }
   ],
   "source": [
    "# Checking for rows that contain empty strings\n",
    "\n",
    "for col in df.columns.tolist():\n",
    "    if '' in df[col].values.tolist():\n",
    "        print(col + ':', df[col].value_counts()[''], 'row(s)')"
   ]
  },
  {
   "cell_type": "markdown",
   "id": "7d78ca1f",
   "metadata": {},
   "source": [
    "Columns that require a change in data type, includes:<br>\n",
    "House Number<br>\n",
    "Age<br>\n",
    "\n",
    "Columns that contain Null values:<br>\n",
    "Marital Status<br>\n",
    "Religion<br>\n",
    "\n",
    "Columns that contain Empty String:<br>\n",
    "First Name<br>\n",
    "Age<br>\n",
    "Relationship to Head of House<br>\n",
    "Marital Status<br>\n",
    "Gender<br>\n",
    "Occupation<br>\n",
    "Infirmity<br>\n",
    "Religion<br>\n"
   ]
  },
  {
   "cell_type": "code",
   "execution_count": 10,
   "id": "8e28166d",
   "metadata": {},
   "outputs": [],
   "source": [
    "# Changing empty strings to nan\n",
    "\n",
    "columns = ['First Name', 'Age', 'Relationship to Head of House',\n",
    "           'Marital Status', 'Gender', 'Occupation',\n",
    "           'Infirmity', 'Religion'\n",
    "          ]\n",
    "\n",
    "for column in columns:\n",
    "    df[column].replace('', np.nan, inplace=True)"
   ]
  },
  {
   "cell_type": "markdown",
   "id": "d584bc03",
   "metadata": {},
   "source": [
    "## Exploring Each Column"
   ]
  },
  {
   "cell_type": "markdown",
   "id": "8083cfef",
   "metadata": {},
   "source": [
    "### House Number"
   ]
  },
  {
   "cell_type": "code",
   "execution_count": 11,
   "id": "e3ed6894",
   "metadata": {},
   "outputs": [
    {
     "data": {
      "text/html": [
       "<div>\n",
       "<style scoped>\n",
       "    .dataframe tbody tr th:only-of-type {\n",
       "        vertical-align: middle;\n",
       "    }\n",
       "\n",
       "    .dataframe tbody tr th {\n",
       "        vertical-align: top;\n",
       "    }\n",
       "\n",
       "    .dataframe thead th {\n",
       "        text-align: right;\n",
       "    }\n",
       "</style>\n",
       "<table border=\"1\" class=\"dataframe\">\n",
       "  <thead>\n",
       "    <tr style=\"text-align: right;\">\n",
       "      <th></th>\n",
       "      <th>House Number</th>\n",
       "      <th>Street</th>\n",
       "      <th>First Name</th>\n",
       "      <th>Surname</th>\n",
       "      <th>Age</th>\n",
       "      <th>Relationship to Head of House</th>\n",
       "      <th>Marital Status</th>\n",
       "      <th>Gender</th>\n",
       "      <th>Occupation</th>\n",
       "      <th>Infirmity</th>\n",
       "      <th>Religion</th>\n",
       "    </tr>\n",
       "  </thead>\n",
       "  <tbody>\n",
       "    <tr>\n",
       "      <th>471</th>\n",
       "      <td>One</td>\n",
       "      <td>Butcher Burgs</td>\n",
       "      <td>Sheila</td>\n",
       "      <td>Stephens</td>\n",
       "      <td>68</td>\n",
       "      <td>Head</td>\n",
       "      <td>Widowed</td>\n",
       "      <td>Female</td>\n",
       "      <td>Retired Logistics and distribution manager</td>\n",
       "      <td>None</td>\n",
       "      <td>Methodist</td>\n",
       "    </tr>\n",
       "  </tbody>\n",
       "</table>\n",
       "</div>"
      ],
      "text/plain": [
       "    House Number         Street First Name   Surname Age  \\\n",
       "471          One  Butcher Burgs     Sheila  Stephens  68   \n",
       "\n",
       "    Relationship to Head of House Marital Status  Gender  \\\n",
       "471                          Head        Widowed  Female   \n",
       "\n",
       "                                     Occupation Infirmity   Religion  \n",
       "471  Retired Logistics and distribution manager      None  Methodist  "
      ]
     },
     "execution_count": 11,
     "metadata": {},
     "output_type": "execute_result"
    }
   ],
   "source": [
    "# checking for non-numerical house numbers\n",
    "df[~df['House Number'].str.isdigit()]"
   ]
  },
  {
   "cell_type": "code",
   "execution_count": 12,
   "id": "dd03ee5d",
   "metadata": {},
   "outputs": [],
   "source": [
    "df['House Number'].replace('One', 1, inplace=True) # correcting error\n",
    "df['House Number'] = df['House Number'].astype(int) # standardizing column"
   ]
  },
  {
   "cell_type": "markdown",
   "id": "a85eeeb0",
   "metadata": {},
   "source": [
    "### First Name"
   ]
  },
  {
   "cell_type": "code",
   "execution_count": 13,
   "id": "e5c62893",
   "metadata": {},
   "outputs": [
    {
     "data": {
      "text/html": [
       "<div>\n",
       "<style scoped>\n",
       "    .dataframe tbody tr th:only-of-type {\n",
       "        vertical-align: middle;\n",
       "    }\n",
       "\n",
       "    .dataframe tbody tr th {\n",
       "        vertical-align: top;\n",
       "    }\n",
       "\n",
       "    .dataframe thead th {\n",
       "        text-align: right;\n",
       "    }\n",
       "</style>\n",
       "<table border=\"1\" class=\"dataframe\">\n",
       "  <thead>\n",
       "    <tr style=\"text-align: right;\">\n",
       "      <th></th>\n",
       "      <th>House Number</th>\n",
       "      <th>Street</th>\n",
       "      <th>First Name</th>\n",
       "      <th>Surname</th>\n",
       "      <th>Age</th>\n",
       "      <th>Relationship to Head of House</th>\n",
       "      <th>Marital Status</th>\n",
       "      <th>Gender</th>\n",
       "      <th>Occupation</th>\n",
       "      <th>Infirmity</th>\n",
       "      <th>Religion</th>\n",
       "    </tr>\n",
       "  </thead>\n",
       "  <tbody>\n",
       "    <tr>\n",
       "      <th>267</th>\n",
       "      <td>51</td>\n",
       "      <td>Fish Harbor</td>\n",
       "      <td>NaN</td>\n",
       "      <td>Armstrong</td>\n",
       "      <td>55</td>\n",
       "      <td>None</td>\n",
       "      <td>Single</td>\n",
       "      <td>Male</td>\n",
       "      <td>Unemployed</td>\n",
       "      <td>None</td>\n",
       "      <td>Catholic</td>\n",
       "    </tr>\n",
       "    <tr>\n",
       "      <th>6421</th>\n",
       "      <td>19</td>\n",
       "      <td>Wilkins Street</td>\n",
       "      <td>NaN</td>\n",
       "      <td>Clarke</td>\n",
       "      <td>69</td>\n",
       "      <td>Head</td>\n",
       "      <td>Single</td>\n",
       "      <td>Male</td>\n",
       "      <td>Retired Community development worker</td>\n",
       "      <td>None</td>\n",
       "      <td>Christian</td>\n",
       "    </tr>\n",
       "  </tbody>\n",
       "</table>\n",
       "</div>"
      ],
      "text/plain": [
       "      House Number          Street First Name    Surname Age  \\\n",
       "267             51     Fish Harbor        NaN  Armstrong  55   \n",
       "6421            19  Wilkins Street        NaN     Clarke  69   \n",
       "\n",
       "     Relationship to Head of House Marital Status Gender  \\\n",
       "267                           None         Single   Male   \n",
       "6421                          Head         Single   Male   \n",
       "\n",
       "                                Occupation Infirmity   Religion  \n",
       "267                             Unemployed      None   Catholic  \n",
       "6421  Retired Community development worker      None  Christian  "
      ]
     },
     "execution_count": 13,
     "metadata": {},
     "output_type": "execute_result"
    }
   ],
   "source": [
    "df[df['First Name'].isna()] # exploring empty first name entries"
   ]
  },
  {
   "cell_type": "code",
   "execution_count": 14,
   "id": "2562fd3e",
   "metadata": {},
   "outputs": [],
   "source": [
    "df['First Name'].replace(np.nan, 'MISSING', inplace=True)"
   ]
  },
  {
   "cell_type": "markdown",
   "id": "344f6bb1",
   "metadata": {},
   "source": [
    "### Occupation"
   ]
  },
  {
   "cell_type": "code",
   "execution_count": 15,
   "id": "56f6c253",
   "metadata": {},
   "outputs": [
    {
     "data": {
      "text/html": [
       "<div>\n",
       "<style scoped>\n",
       "    .dataframe tbody tr th:only-of-type {\n",
       "        vertical-align: middle;\n",
       "    }\n",
       "\n",
       "    .dataframe tbody tr th {\n",
       "        vertical-align: top;\n",
       "    }\n",
       "\n",
       "    .dataframe thead th {\n",
       "        text-align: right;\n",
       "    }\n",
       "</style>\n",
       "<table border=\"1\" class=\"dataframe\">\n",
       "  <thead>\n",
       "    <tr style=\"text-align: right;\">\n",
       "      <th></th>\n",
       "      <th>House Number</th>\n",
       "      <th>Street</th>\n",
       "      <th>First Name</th>\n",
       "      <th>Surname</th>\n",
       "      <th>Age</th>\n",
       "      <th>Relationship to Head of House</th>\n",
       "      <th>Marital Status</th>\n",
       "      <th>Gender</th>\n",
       "      <th>Occupation</th>\n",
       "      <th>Infirmity</th>\n",
       "      <th>Religion</th>\n",
       "    </tr>\n",
       "  </thead>\n",
       "  <tbody>\n",
       "    <tr>\n",
       "      <th>949</th>\n",
       "      <td>16</td>\n",
       "      <td>Newfound Creek</td>\n",
       "      <td>Danielle</td>\n",
       "      <td>Wood</td>\n",
       "      <td>70</td>\n",
       "      <td>Head</td>\n",
       "      <td>Single</td>\n",
       "      <td>Female</td>\n",
       "      <td>NaN</td>\n",
       "      <td>None</td>\n",
       "      <td>Christian</td>\n",
       "    </tr>\n",
       "  </tbody>\n",
       "</table>\n",
       "</div>"
      ],
      "text/plain": [
       "     House Number          Street First Name Surname Age  \\\n",
       "949            16  Newfound Creek   Danielle    Wood  70   \n",
       "\n",
       "    Relationship to Head of House Marital Status  Gender Occupation Infirmity  \\\n",
       "949                          Head         Single  Female        NaN      None   \n",
       "\n",
       "      Religion  \n",
       "949  Christian  "
      ]
     },
     "execution_count": 15,
     "metadata": {},
     "output_type": "execute_result"
    }
   ],
   "source": [
    "df[df['Occupation'].isna()]"
   ]
  },
  {
   "cell_type": "code",
   "execution_count": 16,
   "id": "a6e15ade",
   "metadata": {},
   "outputs": [],
   "source": [
    "# Given the age, retired will be most approriate\n",
    "\n",
    "df.at[949, 'Occupation'] = 'Retired'"
   ]
  },
  {
   "cell_type": "code",
   "execution_count": 17,
   "id": "9179f936",
   "metadata": {},
   "outputs": [
    {
     "data": {
      "text/plain": [
       "Student                                    1477\n",
       "University Student                          488\n",
       "Unemployed                                  481\n",
       "Child                                       433\n",
       "PhD Student                                  14\n",
       "                                           ... \n",
       "Retired Administrator, local government       1\n",
       "Retired Engineer, communications              1\n",
       "Retired Nurse, adult                          1\n",
       "Retired Music therapist                       1\n",
       "Retired Consulting civil engineer             1\n",
       "Name: Occupation, Length: 1086, dtype: int64"
      ]
     },
     "execution_count": 17,
     "metadata": {},
     "output_type": "execute_result"
    }
   ],
   "source": [
    "df['Occupation'].value_counts(dropna=False)"
   ]
  },
  {
   "cell_type": "markdown",
   "id": "ffafa6ae",
   "metadata": {},
   "source": [
    "### Age"
   ]
  },
  {
   "cell_type": "code",
   "execution_count": 18,
   "id": "ede62c44",
   "metadata": {},
   "outputs": [
    {
     "data": {
      "text/html": [
       "<div>\n",
       "<style scoped>\n",
       "    .dataframe tbody tr th:only-of-type {\n",
       "        vertical-align: middle;\n",
       "    }\n",
       "\n",
       "    .dataframe tbody tr th {\n",
       "        vertical-align: top;\n",
       "    }\n",
       "\n",
       "    .dataframe thead th {\n",
       "        text-align: right;\n",
       "    }\n",
       "</style>\n",
       "<table border=\"1\" class=\"dataframe\">\n",
       "  <thead>\n",
       "    <tr style=\"text-align: right;\">\n",
       "      <th></th>\n",
       "      <th>House Number</th>\n",
       "      <th>Street</th>\n",
       "      <th>First Name</th>\n",
       "      <th>Surname</th>\n",
       "      <th>Age</th>\n",
       "      <th>Relationship to Head of House</th>\n",
       "      <th>Marital Status</th>\n",
       "      <th>Gender</th>\n",
       "      <th>Occupation</th>\n",
       "      <th>Infirmity</th>\n",
       "      <th>Religion</th>\n",
       "    </tr>\n",
       "  </thead>\n",
       "  <tbody>\n",
       "    <tr>\n",
       "      <th>358</th>\n",
       "      <td>80</td>\n",
       "      <td>Fish Harbor</td>\n",
       "      <td>Mary</td>\n",
       "      <td>Ward</td>\n",
       "      <td>72.38784457</td>\n",
       "      <td>Head</td>\n",
       "      <td>Married</td>\n",
       "      <td>Female</td>\n",
       "      <td>Retired Hydrologist</td>\n",
       "      <td>None</td>\n",
       "      <td>Christian</td>\n",
       "    </tr>\n",
       "    <tr>\n",
       "      <th>359</th>\n",
       "      <td>80</td>\n",
       "      <td>Fish Harbor</td>\n",
       "      <td>Alex</td>\n",
       "      <td>Ward</td>\n",
       "      <td>74.38784457</td>\n",
       "      <td>Husband</td>\n",
       "      <td>Married</td>\n",
       "      <td>Male</td>\n",
       "      <td>Unemployed</td>\n",
       "      <td>None</td>\n",
       "      <td>Christian</td>\n",
       "    </tr>\n",
       "    <tr>\n",
       "      <th>5060</th>\n",
       "      <td>5</td>\n",
       "      <td>Kerr Avenue</td>\n",
       "      <td>Lewis</td>\n",
       "      <td>Turner</td>\n",
       "      <td>80.57582061</td>\n",
       "      <td>Head</td>\n",
       "      <td>Married</td>\n",
       "      <td>Male</td>\n",
       "      <td>Retired Haematologist</td>\n",
       "      <td>None</td>\n",
       "      <td>Christian</td>\n",
       "    </tr>\n",
       "    <tr>\n",
       "      <th>5061</th>\n",
       "      <td>5</td>\n",
       "      <td>Kerr Avenue</td>\n",
       "      <td>Kirsty</td>\n",
       "      <td>Turner</td>\n",
       "      <td>77.57582061</td>\n",
       "      <td>Wife</td>\n",
       "      <td>Married</td>\n",
       "      <td>Female</td>\n",
       "      <td>Retired Theme park manager</td>\n",
       "      <td>None</td>\n",
       "      <td>None</td>\n",
       "    </tr>\n",
       "    <tr>\n",
       "      <th>5062</th>\n",
       "      <td>5</td>\n",
       "      <td>Kerr Avenue</td>\n",
       "      <td>Jodie</td>\n",
       "      <td>Dixon</td>\n",
       "      <td>7.11E-15</td>\n",
       "      <td>Granddaughter</td>\n",
       "      <td>NaN</td>\n",
       "      <td>Female</td>\n",
       "      <td>Child</td>\n",
       "      <td>None</td>\n",
       "      <td>NaN</td>\n",
       "    </tr>\n",
       "  </tbody>\n",
       "</table>\n",
       "</div>"
      ],
      "text/plain": [
       "      House Number       Street First Name Surname          Age  \\\n",
       "358             80  Fish Harbor       Mary    Ward  72.38784457   \n",
       "359             80  Fish Harbor       Alex    Ward  74.38784457   \n",
       "5060             5  Kerr Avenue      Lewis  Turner  80.57582061   \n",
       "5061             5  Kerr Avenue     Kirsty  Turner  77.57582061   \n",
       "5062             5  Kerr Avenue      Jodie   Dixon     7.11E-15   \n",
       "\n",
       "     Relationship to Head of House Marital Status  Gender  \\\n",
       "358                           Head        Married  Female   \n",
       "359                        Husband        Married    Male   \n",
       "5060                          Head        Married    Male   \n",
       "5061                          Wife        Married  Female   \n",
       "5062                 Granddaughter            NaN  Female   \n",
       "\n",
       "                      Occupation Infirmity   Religion  \n",
       "358          Retired Hydrologist      None  Christian  \n",
       "359                   Unemployed      None  Christian  \n",
       "5060       Retired Haematologist      None  Christian  \n",
       "5061  Retired Theme park manager      None       None  \n",
       "5062                       Child      None        NaN  "
      ]
     },
     "execution_count": 18,
     "metadata": {},
     "output_type": "execute_result"
    }
   ],
   "source": [
    "df_age = df[~(df['Age'].isna())] # exclude NaN float values\n",
    "df_age = df_age[(~df_age['Age'].str.isdigit())] # check for float strings\n",
    "df_age"
   ]
  },
  {
   "cell_type": "code",
   "execution_count": 19,
   "id": "7694f632",
   "metadata": {},
   "outputs": [],
   "source": [
    "for idx in df_age.index.tolist():\n",
    "    # convert string to float, round down float value, then convert to string for data consistency\n",
    "    \n",
    "    value = str(np.floor(float(df.iloc[idx]['Age']))) \n",
    "    df.at[idx, 'Age'] = value.split('.')[0] # slice the values before the decimal place"
   ]
  },
  {
   "cell_type": "code",
   "execution_count": 20,
   "id": "a364fb86",
   "metadata": {},
   "outputs": [],
   "source": [
    "# filling in nan values by using Occupation Category\n",
    "\n",
    "for idx in np.where(df['Age'].isna())[0]:\n",
    "    if df.iloc[idx]['Occupation'] == 'Child':\n",
    "        df.at[idx, 'Age'] = df[df['Occupation'] == 'Child']['Age'].median() # median age of children\n",
    "    elif df.iloc[idx]['Occupation'] == 'Student':\n",
    "        df.at[idx, 'Age'] = df[df['Occupation'] == 'Student']['Age'].median() # median age of students\n",
    "    else:\n",
    "        df.at[idx, 'Age'] = df[df['Age'] >= 18]['Age'].mean() # median age of the adult population"
   ]
  },
  {
   "cell_type": "code",
   "execution_count": 21,
   "id": "a0ce079c",
   "metadata": {},
   "outputs": [],
   "source": [
    "df['Age'] = df['Age'].astype(int)"
   ]
  },
  {
   "cell_type": "markdown",
   "id": "d3006820",
   "metadata": {},
   "source": [
    "### Relationship to Head of House"
   ]
  },
  {
   "cell_type": "code",
   "execution_count": 22,
   "id": "a957d20f",
   "metadata": {},
   "outputs": [
    {
     "data": {
      "text/html": [
       "<div>\n",
       "<style scoped>\n",
       "    .dataframe tbody tr th:only-of-type {\n",
       "        vertical-align: middle;\n",
       "    }\n",
       "\n",
       "    .dataframe tbody tr th {\n",
       "        vertical-align: top;\n",
       "    }\n",
       "\n",
       "    .dataframe thead th {\n",
       "        text-align: right;\n",
       "    }\n",
       "</style>\n",
       "<table border=\"1\" class=\"dataframe\">\n",
       "  <thead>\n",
       "    <tr style=\"text-align: right;\">\n",
       "      <th></th>\n",
       "      <th>House Number</th>\n",
       "      <th>Street</th>\n",
       "      <th>First Name</th>\n",
       "      <th>Surname</th>\n",
       "      <th>Age</th>\n",
       "      <th>Relationship to Head of House</th>\n",
       "      <th>Marital Status</th>\n",
       "      <th>Gender</th>\n",
       "      <th>Occupation</th>\n",
       "      <th>Infirmity</th>\n",
       "      <th>Religion</th>\n",
       "    </tr>\n",
       "  </thead>\n",
       "  <tbody>\n",
       "    <tr>\n",
       "      <th>2240</th>\n",
       "      <td>19</td>\n",
       "      <td>Norwich Cliffs</td>\n",
       "      <td>Emily</td>\n",
       "      <td>Hill</td>\n",
       "      <td>19</td>\n",
       "      <td>NaN</td>\n",
       "      <td>Single</td>\n",
       "      <td>Female</td>\n",
       "      <td>University Student</td>\n",
       "      <td>None</td>\n",
       "      <td>None</td>\n",
       "    </tr>\n",
       "  </tbody>\n",
       "</table>\n",
       "</div>"
      ],
      "text/plain": [
       "      House Number          Street First Name Surname  Age  \\\n",
       "2240            19  Norwich Cliffs      Emily    Hill   19   \n",
       "\n",
       "     Relationship to Head of House Marital Status  Gender          Occupation  \\\n",
       "2240                           NaN         Single  Female  University Student   \n",
       "\n",
       "     Infirmity Religion  \n",
       "2240      None     None  "
      ]
     },
     "execution_count": 22,
     "metadata": {},
     "output_type": "execute_result"
    }
   ],
   "source": [
    "df[df['Relationship to Head of House'].isna()] # checking for null values"
   ]
  },
  {
   "cell_type": "code",
   "execution_count": 23,
   "id": "e07260c3",
   "metadata": {},
   "outputs": [
    {
     "data": {
      "text/plain": [
       "Head                     2912\n",
       "Son                      1273\n",
       "Daughter                 1215\n",
       "Husband                   803\n",
       "None                      474\n",
       "Wife                      291\n",
       "Lodger                    274\n",
       "Partner                   223\n",
       "Grandson                   66\n",
       "Granddaughter              56\n",
       "Sibling                    42\n",
       "Cousin                     32\n",
       "Visitor                    27\n",
       "Step-Son                   24\n",
       "Adopted Son                17\n",
       "Step-Daughter              16\n",
       "Neice                      10\n",
       "Nephew                      9\n",
       "Adopted Daughter            7\n",
       "Adopted Granddaughter       1\n",
       "NaN                         1\n",
       "Name: Relationship to Head of House, dtype: int64"
      ]
     },
     "execution_count": 23,
     "metadata": {},
     "output_type": "execute_result"
    }
   ],
   "source": [
    "df['Relationship to Head of House'].value_counts(dropna=False) # Relationship to Head of House Categories"
   ]
  },
  {
   "cell_type": "code",
   "execution_count": 24,
   "id": "a3261e5b",
   "metadata": {},
   "outputs": [
    {
     "data": {
      "text/html": [
       "<div>\n",
       "<style scoped>\n",
       "    .dataframe tbody tr th:only-of-type {\n",
       "        vertical-align: middle;\n",
       "    }\n",
       "\n",
       "    .dataframe tbody tr th {\n",
       "        vertical-align: top;\n",
       "    }\n",
       "\n",
       "    .dataframe thead th {\n",
       "        text-align: right;\n",
       "    }\n",
       "</style>\n",
       "<table border=\"1\" class=\"dataframe\">\n",
       "  <thead>\n",
       "    <tr style=\"text-align: right;\">\n",
       "      <th></th>\n",
       "      <th>House Number</th>\n",
       "      <th>Street</th>\n",
       "      <th>First Name</th>\n",
       "      <th>Surname</th>\n",
       "      <th>Age</th>\n",
       "      <th>Relationship to Head of House</th>\n",
       "      <th>Marital Status</th>\n",
       "      <th>Gender</th>\n",
       "      <th>Occupation</th>\n",
       "      <th>Infirmity</th>\n",
       "      <th>Religion</th>\n",
       "    </tr>\n",
       "  </thead>\n",
       "  <tbody>\n",
       "    <tr>\n",
       "      <th>2237</th>\n",
       "      <td>19</td>\n",
       "      <td>Norwich Cliffs</td>\n",
       "      <td>Carl</td>\n",
       "      <td>Davies</td>\n",
       "      <td>42</td>\n",
       "      <td>Head</td>\n",
       "      <td>Single</td>\n",
       "      <td>Male</td>\n",
       "      <td>Therapist, nutritional</td>\n",
       "      <td>Physical Disability</td>\n",
       "      <td>None</td>\n",
       "    </tr>\n",
       "    <tr>\n",
       "      <th>2238</th>\n",
       "      <td>19</td>\n",
       "      <td>Norwich Cliffs</td>\n",
       "      <td>Donald</td>\n",
       "      <td>Thornton</td>\n",
       "      <td>40</td>\n",
       "      <td>None</td>\n",
       "      <td>Single</td>\n",
       "      <td>Male</td>\n",
       "      <td>Teaching laboratory technician</td>\n",
       "      <td>None</td>\n",
       "      <td>Christian</td>\n",
       "    </tr>\n",
       "    <tr>\n",
       "      <th>2239</th>\n",
       "      <td>19</td>\n",
       "      <td>Norwich Cliffs</td>\n",
       "      <td>Cheryl</td>\n",
       "      <td>Murphy</td>\n",
       "      <td>59</td>\n",
       "      <td>None</td>\n",
       "      <td>Single</td>\n",
       "      <td>Female</td>\n",
       "      <td>Fisheries officer</td>\n",
       "      <td>None</td>\n",
       "      <td>None</td>\n",
       "    </tr>\n",
       "    <tr>\n",
       "      <th>2240</th>\n",
       "      <td>19</td>\n",
       "      <td>Norwich Cliffs</td>\n",
       "      <td>Emily</td>\n",
       "      <td>Hill</td>\n",
       "      <td>19</td>\n",
       "      <td>NaN</td>\n",
       "      <td>Single</td>\n",
       "      <td>Female</td>\n",
       "      <td>University Student</td>\n",
       "      <td>None</td>\n",
       "      <td>None</td>\n",
       "    </tr>\n",
       "  </tbody>\n",
       "</table>\n",
       "</div>"
      ],
      "text/plain": [
       "      House Number          Street First Name   Surname  Age  \\\n",
       "2237            19  Norwich Cliffs       Carl    Davies   42   \n",
       "2238            19  Norwich Cliffs     Donald  Thornton   40   \n",
       "2239            19  Norwich Cliffs     Cheryl    Murphy   59   \n",
       "2240            19  Norwich Cliffs      Emily      Hill   19   \n",
       "\n",
       "     Relationship to Head of House Marital Status  Gender  \\\n",
       "2237                          Head         Single    Male   \n",
       "2238                          None         Single    Male   \n",
       "2239                          None         Single  Female   \n",
       "2240                           NaN         Single  Female   \n",
       "\n",
       "                          Occupation            Infirmity   Religion  \n",
       "2237          Therapist, nutritional  Physical Disability       None  \n",
       "2238  Teaching laboratory technician                 None  Christian  \n",
       "2239               Fisheries officer                 None       None  \n",
       "2240              University Student                 None       None  "
      ]
     },
     "execution_count": 24,
     "metadata": {},
     "output_type": "execute_result"
    }
   ],
   "source": [
    "df[(df['Street'] == 'Norwich Cliffs') & (df['House Number'] == 19)] # Checking the household of index 2240"
   ]
  },
  {
   "cell_type": "code",
   "execution_count": 25,
   "id": "619c1bf0",
   "metadata": {},
   "outputs": [],
   "source": [
    "df.at[2240, 'Relationship to Head of House'] = 'None' # Changing nan value to 'None' based on household compostion "
   ]
  },
  {
   "cell_type": "code",
   "execution_count": 26,
   "id": "428931eb",
   "metadata": {},
   "outputs": [],
   "source": [
    "df['Relationship to Head of House'].replace('Neice', 'Niece', inplace=True) # correcting spelling error"
   ]
  },
  {
   "cell_type": "code",
   "execution_count": 27,
   "id": "b2601b59",
   "metadata": {},
   "outputs": [
    {
     "data": {
      "text/plain": [
       "Head                     2912\n",
       "Son                      1273\n",
       "Daughter                 1215\n",
       "Husband                   803\n",
       "None                      475\n",
       "Wife                      291\n",
       "Lodger                    274\n",
       "Partner                   223\n",
       "Grandson                   66\n",
       "Granddaughter              56\n",
       "Sibling                    42\n",
       "Cousin                     32\n",
       "Visitor                    27\n",
       "Step-Son                   24\n",
       "Adopted Son                17\n",
       "Step-Daughter              16\n",
       "Niece                      10\n",
       "Nephew                      9\n",
       "Adopted Daughter            7\n",
       "Adopted Granddaughter       1\n",
       "Name: Relationship to Head of House, dtype: int64"
      ]
     },
     "execution_count": 27,
     "metadata": {},
     "output_type": "execute_result"
    }
   ],
   "source": [
    "df['Relationship to Head of House'].value_counts(dropna=False) # Displaying standardized categories"
   ]
  },
  {
   "cell_type": "markdown",
   "id": "d83a8585",
   "metadata": {},
   "source": [
    "### Marital Status"
   ]
  },
  {
   "cell_type": "code",
   "execution_count": 28,
   "id": "79b1b40f",
   "metadata": {},
   "outputs": [
    {
     "data": {
      "text/plain": [
       "Single      2660\n",
       "Married     2193\n",
       "NaN         1814\n",
       "Divorced     695\n",
       "Widowed      395\n",
       "D              7\n",
       "W              5\n",
       "M              3\n",
       "S              1\n",
       "Name: Marital Status, dtype: int64"
      ]
     },
     "execution_count": 28,
     "metadata": {},
     "output_type": "execute_result"
    }
   ],
   "source": [
    "# To display 'Marital Status' categories\n",
    "df['Marital Status'].value_counts(dropna=False)"
   ]
  },
  {
   "cell_type": "code",
   "execution_count": 29,
   "id": "315c518e",
   "metadata": {},
   "outputs": [],
   "source": [
    "# all ages below 16 should have no marital status\n",
    "df.loc[df['Age'] < 16, 'Marital Status'] = 'NA'"
   ]
  },
  {
   "cell_type": "code",
   "execution_count": 30,
   "id": "c6a486d4",
   "metadata": {},
   "outputs": [],
   "source": [
    "# standardizing Marital Status categories\n",
    "df['Marital Status'].replace({'S':'Single', 'M':'Married', np.nan: 'Unknown', \n",
    "                              'D': 'Divorced', 'W': 'Widowed'}, inplace=True)"
   ]
  },
  {
   "cell_type": "code",
   "execution_count": 31,
   "id": "51b0307f",
   "metadata": {},
   "outputs": [
    {
     "data": {
      "text/plain": [
       "Single      2661\n",
       "Married     2196\n",
       "NA          1597\n",
       "Divorced     702\n",
       "Widowed      400\n",
       "Unknown      217\n",
       "Name: Marital Status, dtype: int64"
      ]
     },
     "execution_count": 31,
     "metadata": {},
     "output_type": "execute_result"
    }
   ],
   "source": [
    "df['Marital Status'].value_counts(dropna=False) # display standardized categories"
   ]
  },
  {
   "cell_type": "markdown",
   "id": "370bcbc3",
   "metadata": {},
   "source": [
    "### Gender"
   ]
  },
  {
   "cell_type": "code",
   "execution_count": 32,
   "id": "9f147f37",
   "metadata": {},
   "outputs": [
    {
     "data": {
      "text/plain": [
       "Female    3889\n",
       "Male      3566\n",
       "female     100\n",
       "M           82\n",
       "m           81\n",
       "male        27\n",
       "F           16\n",
       "f           11\n",
       "NaN          1\n",
       "Name: Gender, dtype: int64"
      ]
     },
     "execution_count": 32,
     "metadata": {},
     "output_type": "execute_result"
    }
   ],
   "source": [
    "# display Gender categories\n",
    "df['Gender'].value_counts(dropna=False)"
   ]
  },
  {
   "cell_type": "code",
   "execution_count": 33,
   "id": "09ffb504",
   "metadata": {},
   "outputs": [],
   "source": [
    "# creating a dictionary of like genders\n",
    "gender_dict = {'Male': ['male', 'm', 'M'], 'Female': ['female', 'f', 'F']}"
   ]
  },
  {
   "cell_type": "code",
   "execution_count": 34,
   "id": "a45c91ec",
   "metadata": {},
   "outputs": [],
   "source": [
    "# updating Gender column with uniform values: 'Female' and 'Male'\n",
    "for k in gender_dict:\n",
    "    df['Gender'].replace(to_replace=gender_dict[k], value=k, inplace=True)"
   ]
  },
  {
   "cell_type": "code",
   "execution_count": 35,
   "id": "873f0531",
   "metadata": {},
   "outputs": [
    {
     "data": {
      "text/html": [
       "<div>\n",
       "<style scoped>\n",
       "    .dataframe tbody tr th:only-of-type {\n",
       "        vertical-align: middle;\n",
       "    }\n",
       "\n",
       "    .dataframe tbody tr th {\n",
       "        vertical-align: top;\n",
       "    }\n",
       "\n",
       "    .dataframe thead th {\n",
       "        text-align: right;\n",
       "    }\n",
       "</style>\n",
       "<table border=\"1\" class=\"dataframe\">\n",
       "  <thead>\n",
       "    <tr style=\"text-align: right;\">\n",
       "      <th></th>\n",
       "      <th>House Number</th>\n",
       "      <th>Street</th>\n",
       "      <th>First Name</th>\n",
       "      <th>Surname</th>\n",
       "      <th>Age</th>\n",
       "      <th>Relationship to Head of House</th>\n",
       "      <th>Marital Status</th>\n",
       "      <th>Gender</th>\n",
       "      <th>Occupation</th>\n",
       "      <th>Infirmity</th>\n",
       "      <th>Religion</th>\n",
       "    </tr>\n",
       "  </thead>\n",
       "  <tbody>\n",
       "    <tr>\n",
       "      <th>5394</th>\n",
       "      <td>13</td>\n",
       "      <td>Simpson Flats</td>\n",
       "      <td>Antony</td>\n",
       "      <td>Welch-Martin</td>\n",
       "      <td>61</td>\n",
       "      <td>Husband</td>\n",
       "      <td>Married</td>\n",
       "      <td>NaN</td>\n",
       "      <td>Psychologist, prison and probation services</td>\n",
       "      <td>None</td>\n",
       "      <td>Catholic</td>\n",
       "    </tr>\n",
       "  </tbody>\n",
       "</table>\n",
       "</div>"
      ],
      "text/plain": [
       "      House Number         Street First Name       Surname  Age  \\\n",
       "5394            13  Simpson Flats     Antony  Welch-Martin   61   \n",
       "\n",
       "     Relationship to Head of House Marital Status Gender  \\\n",
       "5394                       Husband        Married    NaN   \n",
       "\n",
       "                                       Occupation Infirmity  Religion  \n",
       "5394  Psychologist, prison and probation services      None  Catholic  "
      ]
     },
     "execution_count": 35,
     "metadata": {},
     "output_type": "execute_result"
    }
   ],
   "source": [
    "# Checking for null values\n",
    "df[df['Gender'].isna()]"
   ]
  },
  {
   "cell_type": "code",
   "execution_count": 36,
   "id": "4202cb3b",
   "metadata": {},
   "outputs": [],
   "source": [
    "''' Since data was collected in 1881 and the above subset indicates relationship to HOD as \"Husband\", \n",
    "    it is safe to assume that Gender is \"Male\" '''\n",
    "\n",
    "df.at[5394, 'Gender'] = 'Male'"
   ]
  },
  {
   "cell_type": "code",
   "execution_count": 37,
   "id": "402f486a",
   "metadata": {},
   "outputs": [
    {
     "data": {
      "text/plain": [
       "Female    4016\n",
       "Male      3757\n",
       "Name: Gender, dtype: int64"
      ]
     },
     "execution_count": 37,
     "metadata": {},
     "output_type": "execute_result"
    }
   ],
   "source": [
    "# Display standardized genders\n",
    "df['Gender'].value_counts(dropna=False)"
   ]
  },
  {
   "cell_type": "markdown",
   "id": "157610ed",
   "metadata": {},
   "source": [
    "### Infirmity"
   ]
  },
  {
   "cell_type": "code",
   "execution_count": 38,
   "id": "00f6a6e8",
   "metadata": {},
   "outputs": [
    {
     "data": {
      "text/plain": [
       "None                   7721\n",
       "Unknown Infection        10\n",
       "Blind                    10\n",
       "Physical Disability       8\n",
       "Disabled                  7\n",
       "NaN                       6\n",
       "Mental Disability         6\n",
       "Deaf                      5\n",
       "Name: Infirmity, dtype: int64"
      ]
     },
     "execution_count": 38,
     "metadata": {},
     "output_type": "execute_result"
    }
   ],
   "source": [
    "# Display Infirmity categories\n",
    "df['Infirmity'].value_counts(dropna=False)"
   ]
  },
  {
   "cell_type": "code",
   "execution_count": 39,
   "id": "d2dd505a",
   "metadata": {},
   "outputs": [],
   "source": [
    "# Impute null values with statistical mode\n",
    "df['Infirmity'].replace(np.nan, df['Infirmity'].mode().iloc[0], inplace=True)"
   ]
  },
  {
   "cell_type": "code",
   "execution_count": 40,
   "id": "0154f525",
   "metadata": {},
   "outputs": [
    {
     "data": {
      "text/plain": [
       "None                   7727\n",
       "Unknown Infection        10\n",
       "Blind                    10\n",
       "Physical Disability       8\n",
       "Disabled                  7\n",
       "Mental Disability         6\n",
       "Deaf                      5\n",
       "Name: Infirmity, dtype: int64"
      ]
     },
     "execution_count": 40,
     "metadata": {},
     "output_type": "execute_result"
    }
   ],
   "source": [
    "# Display Infirmity standardized categories\n",
    "df['Infirmity'].value_counts(dropna=False)"
   ]
  },
  {
   "cell_type": "markdown",
   "id": "f4cd399c",
   "metadata": {},
   "source": [
    "### Religion"
   ]
  },
  {
   "cell_type": "code",
   "execution_count": 41,
   "id": "095d406b",
   "metadata": {
    "scrolled": true
   },
   "outputs": [
    {
     "data": {
      "text/plain": [
       "None         2594\n",
       "NaN          1866\n",
       "Christian    1813\n",
       "Catholic      805\n",
       "Methodist     491\n",
       "Muslim        100\n",
       "Sikh           60\n",
       "Jewish         36\n",
       "Bahai           2\n",
       "Private         2\n",
       "Buddist         1\n",
       "Sith            1\n",
       "Baptist         1\n",
       "Orthodoxy       1\n",
       "Name: Religion, dtype: int64"
      ]
     },
     "execution_count": 41,
     "metadata": {},
     "output_type": "execute_result"
    }
   ],
   "source": [
    "# Display Religion categories \n",
    "df['Religion'].value_counts(dropna=False)"
   ]
  },
  {
   "cell_type": "code",
   "execution_count": 42,
   "id": "ff3e8f4f",
   "metadata": {},
   "outputs": [],
   "source": [
    "# Persons below 16 are not required to have a religion.\n",
    "# Set Religion of > 16 Age to 'None'\n",
    "df.loc[df['Age'] < 16, 'Religion'] = 'None'"
   ]
  },
  {
   "cell_type": "code",
   "execution_count": 43,
   "id": "2feec78e",
   "metadata": {},
   "outputs": [],
   "source": [
    "# replacing nan values with the statistical mode of religion\n",
    "df['Religion'].replace(np.nan, df['Religion'].mode().iloc[0], inplace=True)"
   ]
  },
  {
   "cell_type": "code",
   "execution_count": 44,
   "id": "c823e99f",
   "metadata": {},
   "outputs": [],
   "source": [
    "# replacing incorrect entries with none\n",
    "df['Religion'].replace(['Private', 'Sith'], 'None', inplace=True)"
   ]
  },
  {
   "cell_type": "code",
   "execution_count": 45,
   "id": "8a51e0b5",
   "metadata": {},
   "outputs": [
    {
     "data": {
      "text/plain": [
       "None         4463\n",
       "Christian    1813\n",
       "Catholic      805\n",
       "Methodist     491\n",
       "Muslim        100\n",
       "Sikh           60\n",
       "Jewish         36\n",
       "Bahai           2\n",
       "Buddist         1\n",
       "Baptist         1\n",
       "Orthodoxy       1\n",
       "Name: Religion, dtype: int64"
      ]
     },
     "execution_count": 45,
     "metadata": {},
     "output_type": "execute_result"
    }
   ],
   "source": [
    "# Display Religion standardized categories\n",
    "df['Religion'].value_counts(dropna=False)"
   ]
  },
  {
   "cell_type": "markdown",
   "id": "ca3b1d1a",
   "metadata": {},
   "source": [
    "## Checking for inaccurate data "
   ]
  },
  {
   "cell_type": "code",
   "execution_count": 46,
   "id": "50c1dc59",
   "metadata": {},
   "outputs": [
    {
     "data": {
      "text/html": [
       "<div>\n",
       "<style scoped>\n",
       "    .dataframe tbody tr th:only-of-type {\n",
       "        vertical-align: middle;\n",
       "    }\n",
       "\n",
       "    .dataframe tbody tr th {\n",
       "        vertical-align: top;\n",
       "    }\n",
       "\n",
       "    .dataframe thead th {\n",
       "        text-align: right;\n",
       "    }\n",
       "</style>\n",
       "<table border=\"1\" class=\"dataframe\">\n",
       "  <thead>\n",
       "    <tr style=\"text-align: right;\">\n",
       "      <th></th>\n",
       "      <th>House Number</th>\n",
       "      <th>Street</th>\n",
       "      <th>First Name</th>\n",
       "      <th>Surname</th>\n",
       "      <th>Age</th>\n",
       "      <th>Relationship to Head of House</th>\n",
       "      <th>Marital Status</th>\n",
       "      <th>Gender</th>\n",
       "      <th>Occupation</th>\n",
       "      <th>Infirmity</th>\n",
       "      <th>Religion</th>\n",
       "    </tr>\n",
       "  </thead>\n",
       "  <tbody>\n",
       "  </tbody>\n",
       "</table>\n",
       "</div>"
      ],
      "text/plain": [
       "Empty DataFrame\n",
       "Columns: [House Number, Street, First Name, Surname, Age, Relationship to Head of House, Marital Status, Gender, Occupation, Infirmity, Religion]\n",
       "Index: []"
      ]
     },
     "execution_count": 46,
     "metadata": {},
     "output_type": "execute_result"
    }
   ],
   "source": [
    "# Checking for age less than 0\n",
    "df[df['Age'] < 0]"
   ]
  },
  {
   "cell_type": "code",
   "execution_count": 47,
   "id": "4ec89d7d",
   "metadata": {},
   "outputs": [
    {
     "data": {
      "text/html": [
       "<div>\n",
       "<style scoped>\n",
       "    .dataframe tbody tr th:only-of-type {\n",
       "        vertical-align: middle;\n",
       "    }\n",
       "\n",
       "    .dataframe tbody tr th {\n",
       "        vertical-align: top;\n",
       "    }\n",
       "\n",
       "    .dataframe thead th {\n",
       "        text-align: right;\n",
       "    }\n",
       "</style>\n",
       "<table border=\"1\" class=\"dataframe\">\n",
       "  <thead>\n",
       "    <tr style=\"text-align: right;\">\n",
       "      <th></th>\n",
       "      <th>House Number</th>\n",
       "      <th>Street</th>\n",
       "      <th>First Name</th>\n",
       "      <th>Surname</th>\n",
       "      <th>Age</th>\n",
       "      <th>Relationship to Head of House</th>\n",
       "      <th>Marital Status</th>\n",
       "      <th>Gender</th>\n",
       "      <th>Occupation</th>\n",
       "      <th>Infirmity</th>\n",
       "      <th>Religion</th>\n",
       "    </tr>\n",
       "  </thead>\n",
       "  <tbody>\n",
       "  </tbody>\n",
       "</table>\n",
       "</div>"
      ],
      "text/plain": [
       "Empty DataFrame\n",
       "Columns: [House Number, Street, First Name, Surname, Age, Relationship to Head of House, Marital Status, Gender, Occupation, Infirmity, Religion]\n",
       "Index: []"
      ]
     },
     "execution_count": 47,
     "metadata": {},
     "output_type": "execute_result"
    }
   ],
   "source": [
    "# checking for underage marriage \n",
    "df[(df['Marital Status'] == 'NA') & (df['Age'] > 18)]"
   ]
  },
  {
   "cell_type": "code",
   "execution_count": 48,
   "id": "716565ac",
   "metadata": {},
   "outputs": [
    {
     "data": {
      "text/html": [
       "<div>\n",
       "<style scoped>\n",
       "    .dataframe tbody tr th:only-of-type {\n",
       "        vertical-align: middle;\n",
       "    }\n",
       "\n",
       "    .dataframe tbody tr th {\n",
       "        vertical-align: top;\n",
       "    }\n",
       "\n",
       "    .dataframe thead th {\n",
       "        text-align: right;\n",
       "    }\n",
       "</style>\n",
       "<table border=\"1\" class=\"dataframe\">\n",
       "  <thead>\n",
       "    <tr style=\"text-align: right;\">\n",
       "      <th></th>\n",
       "      <th>House Number</th>\n",
       "      <th>Street</th>\n",
       "      <th>First Name</th>\n",
       "      <th>Surname</th>\n",
       "      <th>Age</th>\n",
       "      <th>Relationship to Head of House</th>\n",
       "      <th>Marital Status</th>\n",
       "      <th>Gender</th>\n",
       "      <th>Occupation</th>\n",
       "      <th>Infirmity</th>\n",
       "      <th>Religion</th>\n",
       "    </tr>\n",
       "  </thead>\n",
       "  <tbody>\n",
       "    <tr>\n",
       "      <th>41</th>\n",
       "      <td>4</td>\n",
       "      <td>Quayside Drive</td>\n",
       "      <td>Melanie</td>\n",
       "      <td>Morgan</td>\n",
       "      <td>16</td>\n",
       "      <td>Daughter</td>\n",
       "      <td>Unknown</td>\n",
       "      <td>Female</td>\n",
       "      <td>Student</td>\n",
       "      <td>None</td>\n",
       "      <td>None</td>\n",
       "    </tr>\n",
       "    <tr>\n",
       "      <th>42</th>\n",
       "      <td>4</td>\n",
       "      <td>Quayside Drive</td>\n",
       "      <td>Samuel</td>\n",
       "      <td>Morgan</td>\n",
       "      <td>16</td>\n",
       "      <td>Son</td>\n",
       "      <td>Unknown</td>\n",
       "      <td>Male</td>\n",
       "      <td>Student</td>\n",
       "      <td>None</td>\n",
       "      <td>None</td>\n",
       "    </tr>\n",
       "    <tr>\n",
       "      <th>43</th>\n",
       "      <td>4</td>\n",
       "      <td>Quayside Drive</td>\n",
       "      <td>Joanne</td>\n",
       "      <td>Morgan</td>\n",
       "      <td>16</td>\n",
       "      <td>Daughter</td>\n",
       "      <td>Unknown</td>\n",
       "      <td>Female</td>\n",
       "      <td>Student</td>\n",
       "      <td>None</td>\n",
       "      <td>None</td>\n",
       "    </tr>\n",
       "    <tr>\n",
       "      <th>52</th>\n",
       "      <td>9</td>\n",
       "      <td>Quayside Drive</td>\n",
       "      <td>Dorothy</td>\n",
       "      <td>Smith</td>\n",
       "      <td>16</td>\n",
       "      <td>Daughter</td>\n",
       "      <td>Unknown</td>\n",
       "      <td>Female</td>\n",
       "      <td>Student</td>\n",
       "      <td>None</td>\n",
       "      <td>None</td>\n",
       "    </tr>\n",
       "    <tr>\n",
       "      <th>200</th>\n",
       "      <td>34</td>\n",
       "      <td>Fish Harbor</td>\n",
       "      <td>Lydia</td>\n",
       "      <td>O'Brien</td>\n",
       "      <td>17</td>\n",
       "      <td>Daughter</td>\n",
       "      <td>Unknown</td>\n",
       "      <td>Female</td>\n",
       "      <td>Student</td>\n",
       "      <td>None</td>\n",
       "      <td>None</td>\n",
       "    </tr>\n",
       "    <tr>\n",
       "      <th>...</th>\n",
       "      <td>...</td>\n",
       "      <td>...</td>\n",
       "      <td>...</td>\n",
       "      <td>...</td>\n",
       "      <td>...</td>\n",
       "      <td>...</td>\n",
       "      <td>...</td>\n",
       "      <td>...</td>\n",
       "      <td>...</td>\n",
       "      <td>...</td>\n",
       "      <td>...</td>\n",
       "    </tr>\n",
       "    <tr>\n",
       "      <th>7693</th>\n",
       "      <td>27</td>\n",
       "      <td>North Glens</td>\n",
       "      <td>Hilary</td>\n",
       "      <td>Barnett</td>\n",
       "      <td>17</td>\n",
       "      <td>Daughter</td>\n",
       "      <td>Unknown</td>\n",
       "      <td>Female</td>\n",
       "      <td>Student</td>\n",
       "      <td>None</td>\n",
       "      <td>None</td>\n",
       "    </tr>\n",
       "    <tr>\n",
       "      <th>7703</th>\n",
       "      <td>1</td>\n",
       "      <td>William Citadel</td>\n",
       "      <td>Gregory</td>\n",
       "      <td>Bibi</td>\n",
       "      <td>16</td>\n",
       "      <td>Son</td>\n",
       "      <td>Unknown</td>\n",
       "      <td>Male</td>\n",
       "      <td>Student</td>\n",
       "      <td>None</td>\n",
       "      <td>None</td>\n",
       "    </tr>\n",
       "    <tr>\n",
       "      <th>7710</th>\n",
       "      <td>1</td>\n",
       "      <td>Coronation Rocks</td>\n",
       "      <td>Howard</td>\n",
       "      <td>Richardson</td>\n",
       "      <td>17</td>\n",
       "      <td>Son</td>\n",
       "      <td>Unknown</td>\n",
       "      <td>Male</td>\n",
       "      <td>Student</td>\n",
       "      <td>None</td>\n",
       "      <td>None</td>\n",
       "    </tr>\n",
       "    <tr>\n",
       "      <th>7721</th>\n",
       "      <td>1</td>\n",
       "      <td>Smith Manor</td>\n",
       "      <td>Holly</td>\n",
       "      <td>Little</td>\n",
       "      <td>16</td>\n",
       "      <td>Daughter</td>\n",
       "      <td>Unknown</td>\n",
       "      <td>Female</td>\n",
       "      <td>Student</td>\n",
       "      <td>None</td>\n",
       "      <td>None</td>\n",
       "    </tr>\n",
       "    <tr>\n",
       "      <th>7727</th>\n",
       "      <td>1</td>\n",
       "      <td>Brown Obervatory</td>\n",
       "      <td>Sally</td>\n",
       "      <td>Bradley</td>\n",
       "      <td>16</td>\n",
       "      <td>Daughter</td>\n",
       "      <td>Unknown</td>\n",
       "      <td>Female</td>\n",
       "      <td>Student</td>\n",
       "      <td>None</td>\n",
       "      <td>None</td>\n",
       "    </tr>\n",
       "  </tbody>\n",
       "</table>\n",
       "<p>218 rows × 11 columns</p>\n",
       "</div>"
      ],
      "text/plain": [
       "      House Number            Street First Name     Surname  Age  \\\n",
       "41               4    Quayside Drive    Melanie      Morgan   16   \n",
       "42               4    Quayside Drive     Samuel      Morgan   16   \n",
       "43               4    Quayside Drive     Joanne      Morgan   16   \n",
       "52               9    Quayside Drive    Dorothy       Smith   16   \n",
       "200             34       Fish Harbor      Lydia     O'Brien   17   \n",
       "...            ...               ...        ...         ...  ...   \n",
       "7693            27       North Glens     Hilary     Barnett   17   \n",
       "7703             1   William Citadel    Gregory        Bibi   16   \n",
       "7710             1  Coronation Rocks     Howard  Richardson   17   \n",
       "7721             1       Smith Manor      Holly      Little   16   \n",
       "7727             1  Brown Obervatory      Sally     Bradley   16   \n",
       "\n",
       "     Relationship to Head of House Marital Status  Gender Occupation  \\\n",
       "41                        Daughter        Unknown  Female    Student   \n",
       "42                             Son        Unknown    Male    Student   \n",
       "43                        Daughter        Unknown  Female    Student   \n",
       "52                        Daughter        Unknown  Female    Student   \n",
       "200                       Daughter        Unknown  Female    Student   \n",
       "...                            ...            ...     ...        ...   \n",
       "7693                      Daughter        Unknown  Female    Student   \n",
       "7703                           Son        Unknown    Male    Student   \n",
       "7710                           Son        Unknown    Male    Student   \n",
       "7721                      Daughter        Unknown  Female    Student   \n",
       "7727                      Daughter        Unknown  Female    Student   \n",
       "\n",
       "     Infirmity Religion  \n",
       "41        None     None  \n",
       "42        None     None  \n",
       "43        None     None  \n",
       "52        None     None  \n",
       "200       None     None  \n",
       "...        ...      ...  \n",
       "7693      None     None  \n",
       "7703      None     None  \n",
       "7710      None     None  \n",
       "7721      None     None  \n",
       "7727      None     None  \n",
       "\n",
       "[218 rows x 11 columns]"
      ]
     },
     "execution_count": 48,
     "metadata": {},
     "output_type": "execute_result"
    }
   ],
   "source": [
    "# checking for adult who have no entry for marital status\n",
    "df[(df['Marital Status'] != 'NA') & (df['Age'] < 18)]"
   ]
  },
  {
   "cell_type": "code",
   "execution_count": 49,
   "id": "48eb1c93",
   "metadata": {},
   "outputs": [
    {
     "data": {
      "text/html": [
       "<div>\n",
       "<style scoped>\n",
       "    .dataframe tbody tr th:only-of-type {\n",
       "        vertical-align: middle;\n",
       "    }\n",
       "\n",
       "    .dataframe tbody tr th {\n",
       "        vertical-align: top;\n",
       "    }\n",
       "\n",
       "    .dataframe thead th {\n",
       "        text-align: right;\n",
       "    }\n",
       "</style>\n",
       "<table border=\"1\" class=\"dataframe\">\n",
       "  <thead>\n",
       "    <tr style=\"text-align: right;\">\n",
       "      <th></th>\n",
       "      <th>House Number</th>\n",
       "      <th>Street</th>\n",
       "      <th>First Name</th>\n",
       "      <th>Surname</th>\n",
       "      <th>Age</th>\n",
       "      <th>Relationship to Head of House</th>\n",
       "      <th>Marital Status</th>\n",
       "      <th>Gender</th>\n",
       "      <th>Occupation</th>\n",
       "      <th>Infirmity</th>\n",
       "      <th>Religion</th>\n",
       "    </tr>\n",
       "  </thead>\n",
       "  <tbody>\n",
       "  </tbody>\n",
       "</table>\n",
       "</div>"
      ],
      "text/plain": [
       "Empty DataFrame\n",
       "Columns: [House Number, Street, First Name, Surname, Age, Relationship to Head of House, Marital Status, Gender, Occupation, Infirmity, Religion]\n",
       "Index: []"
      ]
     },
     "execution_count": 49,
     "metadata": {},
     "output_type": "execute_result"
    }
   ],
   "source": [
    "# checking for 'children 'greater than 18 years\n",
    "df[(df['Occupation'] == 'Child') & (df['Age'] > 18)]"
   ]
  },
  {
   "cell_type": "code",
   "execution_count": 50,
   "id": "3a3d27f4",
   "metadata": {},
   "outputs": [
    {
     "data": {
      "text/html": [
       "<div>\n",
       "<style scoped>\n",
       "    .dataframe tbody tr th:only-of-type {\n",
       "        vertical-align: middle;\n",
       "    }\n",
       "\n",
       "    .dataframe tbody tr th {\n",
       "        vertical-align: top;\n",
       "    }\n",
       "\n",
       "    .dataframe thead th {\n",
       "        text-align: right;\n",
       "    }\n",
       "</style>\n",
       "<table border=\"1\" class=\"dataframe\">\n",
       "  <thead>\n",
       "    <tr style=\"text-align: right;\">\n",
       "      <th></th>\n",
       "      <th>House Number</th>\n",
       "      <th>Street</th>\n",
       "      <th>First Name</th>\n",
       "      <th>Surname</th>\n",
       "      <th>Age</th>\n",
       "      <th>Relationship to Head of House</th>\n",
       "      <th>Marital Status</th>\n",
       "      <th>Gender</th>\n",
       "      <th>Occupation</th>\n",
       "      <th>Infirmity</th>\n",
       "      <th>Religion</th>\n",
       "    </tr>\n",
       "  </thead>\n",
       "  <tbody>\n",
       "  </tbody>\n",
       "</table>\n",
       "</div>"
      ],
      "text/plain": [
       "Empty DataFrame\n",
       "Columns: [House Number, Street, First Name, Surname, Age, Relationship to Head of House, Marital Status, Gender, Occupation, Infirmity, Religion]\n",
       "Index: []"
      ]
     },
     "execution_count": 50,
     "metadata": {},
     "output_type": "execute_result"
    }
   ],
   "source": [
    "# checking that all minors below the age of 4 is categorized as 'Child'\n",
    "df[(df['Occupation'] != 'Child') & (df['Age'] < 4)]"
   ]
  },
  {
   "cell_type": "code",
   "execution_count": 51,
   "id": "c05f4044",
   "metadata": {},
   "outputs": [
    {
     "data": {
      "text/html": [
       "<div>\n",
       "<style scoped>\n",
       "    .dataframe tbody tr th:only-of-type {\n",
       "        vertical-align: middle;\n",
       "    }\n",
       "\n",
       "    .dataframe tbody tr th {\n",
       "        vertical-align: top;\n",
       "    }\n",
       "\n",
       "    .dataframe thead th {\n",
       "        text-align: right;\n",
       "    }\n",
       "</style>\n",
       "<table border=\"1\" class=\"dataframe\">\n",
       "  <thead>\n",
       "    <tr style=\"text-align: right;\">\n",
       "      <th></th>\n",
       "      <th>House Number</th>\n",
       "      <th>Street</th>\n",
       "      <th>First Name</th>\n",
       "      <th>Surname</th>\n",
       "      <th>Age</th>\n",
       "      <th>Relationship to Head of House</th>\n",
       "      <th>Marital Status</th>\n",
       "      <th>Gender</th>\n",
       "      <th>Occupation</th>\n",
       "      <th>Infirmity</th>\n",
       "      <th>Religion</th>\n",
       "    </tr>\n",
       "  </thead>\n",
       "  <tbody>\n",
       "    <tr>\n",
       "      <th>5607</th>\n",
       "      <td>1</td>\n",
       "      <td>Kielder Avenue</td>\n",
       "      <td>Joanna</td>\n",
       "      <td>Webb</td>\n",
       "      <td>16</td>\n",
       "      <td>Head</td>\n",
       "      <td>Single</td>\n",
       "      <td>Female</td>\n",
       "      <td>Unemployed</td>\n",
       "      <td>None</td>\n",
       "      <td>None</td>\n",
       "    </tr>\n",
       "  </tbody>\n",
       "</table>\n",
       "</div>"
      ],
      "text/plain": [
       "      House Number          Street First Name Surname  Age  \\\n",
       "5607             1  Kielder Avenue     Joanna    Webb   16   \n",
       "\n",
       "     Relationship to Head of House Marital Status  Gender  Occupation  \\\n",
       "5607                          Head         Single  Female  Unemployed   \n",
       "\n",
       "     Infirmity Religion  \n",
       "5607      None     None  "
      ]
     },
     "execution_count": 51,
     "metadata": {},
     "output_type": "execute_result"
    }
   ],
   "source": [
    "# checking that all minors between 4 and 18 have been categorized correctly\n",
    "df[(df['Occupation'] != 'Student') & (df['Age'] > 4) & (df['Age'] < 18)]"
   ]
  },
  {
   "cell_type": "markdown",
   "id": "0266fc5d",
   "metadata": {},
   "source": [
    "## Identifying outliers"
   ]
  },
  {
   "cell_type": "code",
   "execution_count": 52,
   "id": "e64cb85f",
   "metadata": {},
   "outputs": [
    {
     "name": "stdout",
     "output_type": "stream",
     "text": [
      "Maximum Age:  105\n"
     ]
    }
   ],
   "source": [
    "print('Maximum Age: ', df['Age'].max()) # Maximum Age"
   ]
  },
  {
   "cell_type": "code",
   "execution_count": 53,
   "id": "89fd8e39",
   "metadata": {},
   "outputs": [
    {
     "data": {
      "text/html": [
       "<div>\n",
       "<style scoped>\n",
       "    .dataframe tbody tr th:only-of-type {\n",
       "        vertical-align: middle;\n",
       "    }\n",
       "\n",
       "    .dataframe tbody tr th {\n",
       "        vertical-align: top;\n",
       "    }\n",
       "\n",
       "    .dataframe thead th {\n",
       "        text-align: right;\n",
       "    }\n",
       "</style>\n",
       "<table border=\"1\" class=\"dataframe\">\n",
       "  <thead>\n",
       "    <tr style=\"text-align: right;\">\n",
       "      <th></th>\n",
       "      <th>House Number</th>\n",
       "      <th>Street</th>\n",
       "      <th>First Name</th>\n",
       "      <th>Surname</th>\n",
       "      <th>Age</th>\n",
       "      <th>Relationship to Head of House</th>\n",
       "      <th>Marital Status</th>\n",
       "      <th>Gender</th>\n",
       "      <th>Occupation</th>\n",
       "      <th>Infirmity</th>\n",
       "      <th>Religion</th>\n",
       "    </tr>\n",
       "  </thead>\n",
       "  <tbody>\n",
       "  </tbody>\n",
       "</table>\n",
       "</div>"
      ],
      "text/plain": [
       "Empty DataFrame\n",
       "Columns: [House Number, Street, First Name, Surname, Age, Relationship to Head of House, Marital Status, Gender, Occupation, Infirmity, Religion]\n",
       "Index: []"
      ]
     },
     "execution_count": 53,
     "metadata": {},
     "output_type": "execute_result"
    }
   ],
   "source": [
    "# Early Retirement\n",
    "df[(df['Occupation'].str.contains('Retired')) & (df['Age'] < 65)]"
   ]
  },
  {
   "cell_type": "code",
   "execution_count": 54,
   "id": "2e5737f9",
   "metadata": {
    "scrolled": false
   },
   "outputs": [
    {
     "data": {
      "text/html": [
       "<div>\n",
       "<style scoped>\n",
       "    .dataframe tbody tr th:only-of-type {\n",
       "        vertical-align: middle;\n",
       "    }\n",
       "\n",
       "    .dataframe tbody tr th {\n",
       "        vertical-align: top;\n",
       "    }\n",
       "\n",
       "    .dataframe thead th {\n",
       "        text-align: right;\n",
       "    }\n",
       "</style>\n",
       "<table border=\"1\" class=\"dataframe\">\n",
       "  <thead>\n",
       "    <tr style=\"text-align: right;\">\n",
       "      <th></th>\n",
       "      <th>House Number</th>\n",
       "      <th>Street</th>\n",
       "      <th>First Name</th>\n",
       "      <th>Surname</th>\n",
       "      <th>Age</th>\n",
       "      <th>Relationship to Head of House</th>\n",
       "      <th>Marital Status</th>\n",
       "      <th>Gender</th>\n",
       "      <th>Occupation</th>\n",
       "      <th>Infirmity</th>\n",
       "      <th>Religion</th>\n",
       "    </tr>\n",
       "  </thead>\n",
       "  <tbody>\n",
       "    <tr>\n",
       "      <th>45</th>\n",
       "      <td>6</td>\n",
       "      <td>Quayside Drive</td>\n",
       "      <td>Teresa</td>\n",
       "      <td>Wilson</td>\n",
       "      <td>65</td>\n",
       "      <td>Head</td>\n",
       "      <td>Divorced</td>\n",
       "      <td>Female</td>\n",
       "      <td>Industrial buyer</td>\n",
       "      <td>None</td>\n",
       "      <td>None</td>\n",
       "    </tr>\n",
       "    <tr>\n",
       "      <th>49</th>\n",
       "      <td>8</td>\n",
       "      <td>Quayside Drive</td>\n",
       "      <td>Nicola</td>\n",
       "      <td>Smith</td>\n",
       "      <td>66</td>\n",
       "      <td>Wife</td>\n",
       "      <td>Married</td>\n",
       "      <td>Female</td>\n",
       "      <td>Medical secretary</td>\n",
       "      <td>None</td>\n",
       "      <td>None</td>\n",
       "    </tr>\n",
       "    <tr>\n",
       "      <th>75</th>\n",
       "      <td>18</td>\n",
       "      <td>Quayside Drive</td>\n",
       "      <td>Sarah</td>\n",
       "      <td>Dunn</td>\n",
       "      <td>66</td>\n",
       "      <td>Head</td>\n",
       "      <td>Widowed</td>\n",
       "      <td>Female</td>\n",
       "      <td>Production assistant, radio</td>\n",
       "      <td>None</td>\n",
       "      <td>None</td>\n",
       "    </tr>\n",
       "    <tr>\n",
       "      <th>288</th>\n",
       "      <td>58</td>\n",
       "      <td>Fish Harbor</td>\n",
       "      <td>Kyle</td>\n",
       "      <td>Ross</td>\n",
       "      <td>67</td>\n",
       "      <td>Husband</td>\n",
       "      <td>Married</td>\n",
       "      <td>Male</td>\n",
       "      <td>Sales promotion account executive</td>\n",
       "      <td>None</td>\n",
       "      <td>None</td>\n",
       "    </tr>\n",
       "    <tr>\n",
       "      <th>359</th>\n",
       "      <td>80</td>\n",
       "      <td>Fish Harbor</td>\n",
       "      <td>Alex</td>\n",
       "      <td>Ward</td>\n",
       "      <td>74</td>\n",
       "      <td>Husband</td>\n",
       "      <td>Married</td>\n",
       "      <td>Male</td>\n",
       "      <td>Unemployed</td>\n",
       "      <td>None</td>\n",
       "      <td>Christian</td>\n",
       "    </tr>\n",
       "    <tr>\n",
       "      <th>...</th>\n",
       "      <td>...</td>\n",
       "      <td>...</td>\n",
       "      <td>...</td>\n",
       "      <td>...</td>\n",
       "      <td>...</td>\n",
       "      <td>...</td>\n",
       "      <td>...</td>\n",
       "      <td>...</td>\n",
       "      <td>...</td>\n",
       "      <td>...</td>\n",
       "      <td>...</td>\n",
       "    </tr>\n",
       "    <tr>\n",
       "      <th>7567</th>\n",
       "      <td>25</td>\n",
       "      <td>Ebor Drive</td>\n",
       "      <td>Georgia</td>\n",
       "      <td>Norris</td>\n",
       "      <td>66</td>\n",
       "      <td>Head</td>\n",
       "      <td>Widowed</td>\n",
       "      <td>Female</td>\n",
       "      <td>Theatre manager</td>\n",
       "      <td>None</td>\n",
       "      <td>Christian</td>\n",
       "    </tr>\n",
       "    <tr>\n",
       "      <th>7588</th>\n",
       "      <td>41</td>\n",
       "      <td>Ebor Drive</td>\n",
       "      <td>Deborah</td>\n",
       "      <td>Jones</td>\n",
       "      <td>68</td>\n",
       "      <td>Head</td>\n",
       "      <td>Widowed</td>\n",
       "      <td>Female</td>\n",
       "      <td>Unemployed</td>\n",
       "      <td>None</td>\n",
       "      <td>Christian</td>\n",
       "    </tr>\n",
       "    <tr>\n",
       "      <th>7592</th>\n",
       "      <td>44</td>\n",
       "      <td>Ebor Drive</td>\n",
       "      <td>Frances</td>\n",
       "      <td>Jones</td>\n",
       "      <td>74</td>\n",
       "      <td>Head</td>\n",
       "      <td>Widowed</td>\n",
       "      <td>Female</td>\n",
       "      <td>Unemployed</td>\n",
       "      <td>None</td>\n",
       "      <td>None</td>\n",
       "    </tr>\n",
       "    <tr>\n",
       "      <th>7600</th>\n",
       "      <td>49</td>\n",
       "      <td>Ebor Drive</td>\n",
       "      <td>Edward</td>\n",
       "      <td>Allan</td>\n",
       "      <td>66</td>\n",
       "      <td>Head</td>\n",
       "      <td>Divorced</td>\n",
       "      <td>Male</td>\n",
       "      <td>Cartographer</td>\n",
       "      <td>None</td>\n",
       "      <td>Christian</td>\n",
       "    </tr>\n",
       "    <tr>\n",
       "      <th>7602</th>\n",
       "      <td>50</td>\n",
       "      <td>Ebor Drive</td>\n",
       "      <td>Jay</td>\n",
       "      <td>West</td>\n",
       "      <td>66</td>\n",
       "      <td>Husband</td>\n",
       "      <td>Married</td>\n",
       "      <td>Male</td>\n",
       "      <td>Journalist, newspaper</td>\n",
       "      <td>None</td>\n",
       "      <td>Christian</td>\n",
       "    </tr>\n",
       "  </tbody>\n",
       "</table>\n",
       "<p>179 rows × 11 columns</p>\n",
       "</div>"
      ],
      "text/plain": [
       "      House Number          Street First Name Surname  Age  \\\n",
       "45               6  Quayside Drive     Teresa  Wilson   65   \n",
       "49               8  Quayside Drive     Nicola   Smith   66   \n",
       "75              18  Quayside Drive      Sarah    Dunn   66   \n",
       "288             58     Fish Harbor       Kyle    Ross   67   \n",
       "359             80     Fish Harbor       Alex    Ward   74   \n",
       "...            ...             ...        ...     ...  ...   \n",
       "7567            25      Ebor Drive    Georgia  Norris   66   \n",
       "7588            41      Ebor Drive    Deborah   Jones   68   \n",
       "7592            44      Ebor Drive    Frances   Jones   74   \n",
       "7600            49      Ebor Drive     Edward   Allan   66   \n",
       "7602            50      Ebor Drive        Jay    West   66   \n",
       "\n",
       "     Relationship to Head of House Marital Status  Gender  \\\n",
       "45                            Head       Divorced  Female   \n",
       "49                            Wife        Married  Female   \n",
       "75                            Head        Widowed  Female   \n",
       "288                        Husband        Married    Male   \n",
       "359                        Husband        Married    Male   \n",
       "...                            ...            ...     ...   \n",
       "7567                          Head        Widowed  Female   \n",
       "7588                          Head        Widowed  Female   \n",
       "7592                          Head        Widowed  Female   \n",
       "7600                          Head       Divorced    Male   \n",
       "7602                       Husband        Married    Male   \n",
       "\n",
       "                             Occupation Infirmity   Religion  \n",
       "45                     Industrial buyer      None       None  \n",
       "49                    Medical secretary      None       None  \n",
       "75          Production assistant, radio      None       None  \n",
       "288   Sales promotion account executive      None       None  \n",
       "359                          Unemployed      None  Christian  \n",
       "...                                 ...       ...        ...  \n",
       "7567                    Theatre manager      None  Christian  \n",
       "7588                         Unemployed      None  Christian  \n",
       "7592                         Unemployed      None       None  \n",
       "7600                       Cartographer      None  Christian  \n",
       "7602              Journalist, newspaper      None  Christian  \n",
       "\n",
       "[179 rows x 11 columns]"
      ]
     },
     "execution_count": 54,
     "metadata": {},
     "output_type": "execute_result"
    }
   ],
   "source": [
    "# Late Retirement\n",
    "df[(~df['Occupation'].str.contains('Retired')) & (df['Age'] > 64)]"
   ]
  },
  {
   "cell_type": "code",
   "execution_count": 55,
   "id": "7dbc7932",
   "metadata": {},
   "outputs": [
    {
     "name": "stdout",
     "output_type": "stream",
     "text": [
      "Number of unemployed seniors:  39\n"
     ]
    }
   ],
   "source": [
    "# Finding the number of Unemployed Seniors\n",
    "\n",
    "senior_unemp = len(df[(df['Occupation'] == 'Unemployed') & (df['Age'] > 64)])\n",
    "print('Number of unemployed seniors: ', senior_unemp)"
   ]
  },
  {
   "cell_type": "code",
   "execution_count": 56,
   "id": "359e78b6",
   "metadata": {},
   "outputs": [],
   "source": [
    "# changing unemployed seniors to 'Retired'\n",
    "\n",
    "df.loc[(df['Occupation'] == 'Unemployed') & (df['Age'] > 64), 'Occupation'] = 'Retired'"
   ]
  },
  {
   "cell_type": "code",
   "execution_count": 57,
   "id": "2a2b903c",
   "metadata": {},
   "outputs": [
    {
     "data": {
      "text/html": [
       "<div>\n",
       "<style scoped>\n",
       "    .dataframe tbody tr th:only-of-type {\n",
       "        vertical-align: middle;\n",
       "    }\n",
       "\n",
       "    .dataframe tbody tr th {\n",
       "        vertical-align: top;\n",
       "    }\n",
       "\n",
       "    .dataframe thead th {\n",
       "        text-align: right;\n",
       "    }\n",
       "</style>\n",
       "<table border=\"1\" class=\"dataframe\">\n",
       "  <thead>\n",
       "    <tr style=\"text-align: right;\">\n",
       "      <th></th>\n",
       "      <th>House Number</th>\n",
       "      <th>Street</th>\n",
       "      <th>First Name</th>\n",
       "      <th>Surname</th>\n",
       "      <th>Age</th>\n",
       "      <th>Relationship to Head of House</th>\n",
       "      <th>Marital Status</th>\n",
       "      <th>Gender</th>\n",
       "      <th>Occupation</th>\n",
       "      <th>Infirmity</th>\n",
       "      <th>Religion</th>\n",
       "    </tr>\n",
       "  </thead>\n",
       "  <tbody>\n",
       "    <tr>\n",
       "      <th>2033</th>\n",
       "      <td>6</td>\n",
       "      <td>Chester Street</td>\n",
       "      <td>Anne</td>\n",
       "      <td>Thomson</td>\n",
       "      <td>16</td>\n",
       "      <td>Head</td>\n",
       "      <td>Married</td>\n",
       "      <td>Female</td>\n",
       "      <td>Student</td>\n",
       "      <td>None</td>\n",
       "      <td>None</td>\n",
       "    </tr>\n",
       "    <tr>\n",
       "      <th>5607</th>\n",
       "      <td>1</td>\n",
       "      <td>Kielder Avenue</td>\n",
       "      <td>Joanna</td>\n",
       "      <td>Webb</td>\n",
       "      <td>16</td>\n",
       "      <td>Head</td>\n",
       "      <td>Single</td>\n",
       "      <td>Female</td>\n",
       "      <td>Unemployed</td>\n",
       "      <td>None</td>\n",
       "      <td>None</td>\n",
       "    </tr>\n",
       "  </tbody>\n",
       "</table>\n",
       "</div>"
      ],
      "text/plain": [
       "      House Number          Street First Name  Surname  Age  \\\n",
       "2033             6  Chester Street       Anne  Thomson   16   \n",
       "5607             1  Kielder Avenue     Joanna     Webb   16   \n",
       "\n",
       "     Relationship to Head of House Marital Status  Gender  Occupation  \\\n",
       "2033                          Head        Married  Female     Student   \n",
       "5607                          Head         Single  Female  Unemployed   \n",
       "\n",
       "     Infirmity Religion  \n",
       "2033      None     None  \n",
       "5607      None     None  "
      ]
     },
     "execution_count": 57,
     "metadata": {},
     "output_type": "execute_result"
    }
   ],
   "source": [
    "# Checking for Head of House less than 18 years\n",
    "df[(df['Relationship to Head of House'] == 'Head') & (df['Age'] < 18)]"
   ]
  },
  {
   "cell_type": "code",
   "execution_count": 58,
   "id": "feb742de",
   "metadata": {
    "scrolled": true
   },
   "outputs": [
    {
     "data": {
      "text/html": [
       "<div>\n",
       "<style scoped>\n",
       "    .dataframe tbody tr th:only-of-type {\n",
       "        vertical-align: middle;\n",
       "    }\n",
       "\n",
       "    .dataframe tbody tr th {\n",
       "        vertical-align: top;\n",
       "    }\n",
       "\n",
       "    .dataframe thead th {\n",
       "        text-align: right;\n",
       "    }\n",
       "</style>\n",
       "<table border=\"1\" class=\"dataframe\">\n",
       "  <thead>\n",
       "    <tr style=\"text-align: right;\">\n",
       "      <th></th>\n",
       "      <th>House Number</th>\n",
       "      <th>Street</th>\n",
       "      <th>First Name</th>\n",
       "      <th>Surname</th>\n",
       "      <th>Age</th>\n",
       "      <th>Relationship to Head of House</th>\n",
       "      <th>Marital Status</th>\n",
       "      <th>Gender</th>\n",
       "      <th>Occupation</th>\n",
       "      <th>Infirmity</th>\n",
       "      <th>Religion</th>\n",
       "    </tr>\n",
       "  </thead>\n",
       "  <tbody>\n",
       "    <tr>\n",
       "      <th>2033</th>\n",
       "      <td>6</td>\n",
       "      <td>Chester Street</td>\n",
       "      <td>Anne</td>\n",
       "      <td>Thomson</td>\n",
       "      <td>16</td>\n",
       "      <td>Head</td>\n",
       "      <td>Married</td>\n",
       "      <td>Female</td>\n",
       "      <td>Student</td>\n",
       "      <td>None</td>\n",
       "      <td>None</td>\n",
       "    </tr>\n",
       "    <tr>\n",
       "      <th>2034</th>\n",
       "      <td>6</td>\n",
       "      <td>Chester Street</td>\n",
       "      <td>Brandon</td>\n",
       "      <td>Thomson</td>\n",
       "      <td>19</td>\n",
       "      <td>Husband</td>\n",
       "      <td>Married</td>\n",
       "      <td>Male</td>\n",
       "      <td>University Student</td>\n",
       "      <td>None</td>\n",
       "      <td>None</td>\n",
       "    </tr>\n",
       "    <tr>\n",
       "      <th>2035</th>\n",
       "      <td>6</td>\n",
       "      <td>Chester Street</td>\n",
       "      <td>Steven</td>\n",
       "      <td>Thomson</td>\n",
       "      <td>0</td>\n",
       "      <td>Son</td>\n",
       "      <td>NA</td>\n",
       "      <td>Male</td>\n",
       "      <td>Child</td>\n",
       "      <td>None</td>\n",
       "      <td>None</td>\n",
       "    </tr>\n",
       "    <tr>\n",
       "      <th>2036</th>\n",
       "      <td>6</td>\n",
       "      <td>Chester Street</td>\n",
       "      <td>Lynne</td>\n",
       "      <td>Thomson</td>\n",
       "      <td>0</td>\n",
       "      <td>Daughter</td>\n",
       "      <td>NA</td>\n",
       "      <td>Female</td>\n",
       "      <td>Child</td>\n",
       "      <td>None</td>\n",
       "      <td>None</td>\n",
       "    </tr>\n",
       "    <tr>\n",
       "      <th>2037</th>\n",
       "      <td>6</td>\n",
       "      <td>Chester Street</td>\n",
       "      <td>Karen</td>\n",
       "      <td>Rees</td>\n",
       "      <td>53</td>\n",
       "      <td>Lodger</td>\n",
       "      <td>Divorced</td>\n",
       "      <td>Female</td>\n",
       "      <td>Public house manager</td>\n",
       "      <td>None</td>\n",
       "      <td>Methodist</td>\n",
       "    </tr>\n",
       "  </tbody>\n",
       "</table>\n",
       "</div>"
      ],
      "text/plain": [
       "      House Number          Street First Name  Surname  Age  \\\n",
       "2033             6  Chester Street       Anne  Thomson   16   \n",
       "2034             6  Chester Street    Brandon  Thomson   19   \n",
       "2035             6  Chester Street     Steven  Thomson    0   \n",
       "2036             6  Chester Street      Lynne  Thomson    0   \n",
       "2037             6  Chester Street      Karen     Rees   53   \n",
       "\n",
       "     Relationship to Head of House Marital Status  Gender  \\\n",
       "2033                          Head        Married  Female   \n",
       "2034                       Husband        Married    Male   \n",
       "2035                           Son             NA    Male   \n",
       "2036                      Daughter             NA  Female   \n",
       "2037                        Lodger       Divorced  Female   \n",
       "\n",
       "                Occupation Infirmity   Religion  \n",
       "2033               Student      None       None  \n",
       "2034    University Student      None       None  \n",
       "2035                 Child      None       None  \n",
       "2036                 Child      None       None  \n",
       "2037  Public house manager      None  Methodist  "
      ]
     },
     "execution_count": 58,
     "metadata": {},
     "output_type": "execute_result"
    }
   ],
   "source": [
    "# Displaying the household of index 2033\n",
    "df[(df['Street'] == 'Chester Street') & (df['House Number'] == 6)]"
   ]
  },
  {
   "cell_type": "code",
   "execution_count": 59,
   "id": "69cf3a15",
   "metadata": {
    "scrolled": true
   },
   "outputs": [
    {
     "data": {
      "text/html": [
       "<div>\n",
       "<style scoped>\n",
       "    .dataframe tbody tr th:only-of-type {\n",
       "        vertical-align: middle;\n",
       "    }\n",
       "\n",
       "    .dataframe tbody tr th {\n",
       "        vertical-align: top;\n",
       "    }\n",
       "\n",
       "    .dataframe thead th {\n",
       "        text-align: right;\n",
       "    }\n",
       "</style>\n",
       "<table border=\"1\" class=\"dataframe\">\n",
       "  <thead>\n",
       "    <tr style=\"text-align: right;\">\n",
       "      <th></th>\n",
       "      <th>House Number</th>\n",
       "      <th>Street</th>\n",
       "      <th>First Name</th>\n",
       "      <th>Surname</th>\n",
       "      <th>Age</th>\n",
       "      <th>Relationship to Head of House</th>\n",
       "      <th>Marital Status</th>\n",
       "      <th>Gender</th>\n",
       "      <th>Occupation</th>\n",
       "      <th>Infirmity</th>\n",
       "      <th>Religion</th>\n",
       "    </tr>\n",
       "  </thead>\n",
       "  <tbody>\n",
       "    <tr>\n",
       "      <th>5607</th>\n",
       "      <td>1</td>\n",
       "      <td>Kielder Avenue</td>\n",
       "      <td>Joanna</td>\n",
       "      <td>Webb</td>\n",
       "      <td>16</td>\n",
       "      <td>Head</td>\n",
       "      <td>Single</td>\n",
       "      <td>Female</td>\n",
       "      <td>Unemployed</td>\n",
       "      <td>None</td>\n",
       "      <td>None</td>\n",
       "    </tr>\n",
       "    <tr>\n",
       "      <th>5608</th>\n",
       "      <td>1</td>\n",
       "      <td>Kielder Avenue</td>\n",
       "      <td>Martyn</td>\n",
       "      <td>Webb</td>\n",
       "      <td>0</td>\n",
       "      <td>Son</td>\n",
       "      <td>NA</td>\n",
       "      <td>Male</td>\n",
       "      <td>Child</td>\n",
       "      <td>None</td>\n",
       "      <td>None</td>\n",
       "    </tr>\n",
       "  </tbody>\n",
       "</table>\n",
       "</div>"
      ],
      "text/plain": [
       "      House Number          Street First Name Surname  Age  \\\n",
       "5607             1  Kielder Avenue     Joanna    Webb   16   \n",
       "5608             1  Kielder Avenue     Martyn    Webb    0   \n",
       "\n",
       "     Relationship to Head of House Marital Status  Gender  Occupation  \\\n",
       "5607                          Head         Single  Female  Unemployed   \n",
       "5608                           Son             NA    Male       Child   \n",
       "\n",
       "     Infirmity Religion  \n",
       "5607      None     None  \n",
       "5608      None     None  "
      ]
     },
     "execution_count": 59,
     "metadata": {},
     "output_type": "execute_result"
    }
   ],
   "source": [
    "# Displaying the household of index 5607\n",
    "df[(df['Street'] == 'Kielder Avenue') & (df['House Number'] == 1)]"
   ]
  },
  {
   "cell_type": "code",
   "execution_count": 60,
   "id": "e3832b56",
   "metadata": {},
   "outputs": [
    {
     "name": "stdout",
     "output_type": "stream",
     "text": [
      "<class 'pandas.core.frame.DataFrame'>\n",
      "RangeIndex: 7773 entries, 0 to 7772\n",
      "Data columns (total 11 columns):\n",
      " #   Column                         Non-Null Count  Dtype \n",
      "---  ------                         --------------  ----- \n",
      " 0   House Number                   7773 non-null   int32 \n",
      " 1   Street                         7773 non-null   object\n",
      " 2   First Name                     7773 non-null   object\n",
      " 3   Surname                        7773 non-null   object\n",
      " 4   Age                            7773 non-null   int32 \n",
      " 5   Relationship to Head of House  7773 non-null   object\n",
      " 6   Marital Status                 7773 non-null   object\n",
      " 7   Gender                         7773 non-null   object\n",
      " 8   Occupation                     7773 non-null   object\n",
      " 9   Infirmity                      7773 non-null   object\n",
      " 10  Religion                       7773 non-null   object\n",
      "dtypes: int32(2), object(9)\n",
      "memory usage: 607.4+ KB\n"
     ]
    }
   ],
   "source": [
    "# cleaned data information\n",
    "df.info()"
   ]
  },
  {
   "cell_type": "code",
   "execution_count": 61,
   "id": "fbde6cb2",
   "metadata": {},
   "outputs": [],
   "source": [
    "# Exporting cleaned data\n",
    "df.to_csv('census_07_2022_clean.csv', index = False)"
   ]
  },
  {
   "cell_type": "markdown",
   "id": "d82b3ee4",
   "metadata": {},
   "source": [
    "## Data Analysis"
   ]
  },
  {
   "cell_type": "code",
   "execution_count": 62,
   "id": "6c969637",
   "metadata": {},
   "outputs": [
    {
     "data": {
      "text/html": [
       "<div>\n",
       "<style scoped>\n",
       "    .dataframe tbody tr th:only-of-type {\n",
       "        vertical-align: middle;\n",
       "    }\n",
       "\n",
       "    .dataframe tbody tr th {\n",
       "        vertical-align: top;\n",
       "    }\n",
       "\n",
       "    .dataframe thead th {\n",
       "        text-align: right;\n",
       "    }\n",
       "</style>\n",
       "<table border=\"1\" class=\"dataframe\">\n",
       "  <thead>\n",
       "    <tr style=\"text-align: right;\">\n",
       "      <th></th>\n",
       "      <th>House Number</th>\n",
       "      <th>Street</th>\n",
       "      <th>First Name</th>\n",
       "      <th>Surname</th>\n",
       "      <th>Age</th>\n",
       "      <th>Relationship to Head of House</th>\n",
       "      <th>Marital Status</th>\n",
       "      <th>Gender</th>\n",
       "      <th>Occupation</th>\n",
       "      <th>Infirmity</th>\n",
       "      <th>Religion</th>\n",
       "    </tr>\n",
       "  </thead>\n",
       "  <tbody>\n",
       "    <tr>\n",
       "      <th>0</th>\n",
       "      <td>1</td>\n",
       "      <td>Forgotten Gardens</td>\n",
       "      <td>Laura</td>\n",
       "      <td>White</td>\n",
       "      <td>56</td>\n",
       "      <td>Head</td>\n",
       "      <td>Married</td>\n",
       "      <td>Female</td>\n",
       "      <td>Unemployed</td>\n",
       "      <td>None</td>\n",
       "      <td>Christian</td>\n",
       "    </tr>\n",
       "    <tr>\n",
       "      <th>1</th>\n",
       "      <td>1</td>\n",
       "      <td>Forgotten Gardens</td>\n",
       "      <td>Elliot</td>\n",
       "      <td>White</td>\n",
       "      <td>57</td>\n",
       "      <td>Husband</td>\n",
       "      <td>Married</td>\n",
       "      <td>Male</td>\n",
       "      <td>Education officer, community</td>\n",
       "      <td>None</td>\n",
       "      <td>Christian</td>\n",
       "    </tr>\n",
       "    <tr>\n",
       "      <th>2</th>\n",
       "      <td>1</td>\n",
       "      <td>Forgotten Gardens</td>\n",
       "      <td>Nicole</td>\n",
       "      <td>White</td>\n",
       "      <td>15</td>\n",
       "      <td>Daughter</td>\n",
       "      <td>NA</td>\n",
       "      <td>Female</td>\n",
       "      <td>Student</td>\n",
       "      <td>None</td>\n",
       "      <td>None</td>\n",
       "    </tr>\n",
       "    <tr>\n",
       "      <th>3</th>\n",
       "      <td>2</td>\n",
       "      <td>Forgotten Gardens</td>\n",
       "      <td>Michelle</td>\n",
       "      <td>John</td>\n",
       "      <td>44</td>\n",
       "      <td>Head</td>\n",
       "      <td>Divorced</td>\n",
       "      <td>Female</td>\n",
       "      <td>Administrator, arts</td>\n",
       "      <td>None</td>\n",
       "      <td>Christian</td>\n",
       "    </tr>\n",
       "    <tr>\n",
       "      <th>4</th>\n",
       "      <td>2</td>\n",
       "      <td>Forgotten Gardens</td>\n",
       "      <td>Jeffrey</td>\n",
       "      <td>John</td>\n",
       "      <td>9</td>\n",
       "      <td>Son</td>\n",
       "      <td>NA</td>\n",
       "      <td>Male</td>\n",
       "      <td>Student</td>\n",
       "      <td>None</td>\n",
       "      <td>None</td>\n",
       "    </tr>\n",
       "  </tbody>\n",
       "</table>\n",
       "</div>"
      ],
      "text/plain": [
       "   House Number             Street First Name Surname  Age  \\\n",
       "0             1  Forgotten Gardens      Laura   White   56   \n",
       "1             1  Forgotten Gardens     Elliot   White   57   \n",
       "2             1  Forgotten Gardens     Nicole   White   15   \n",
       "3             2  Forgotten Gardens   Michelle    John   44   \n",
       "4             2  Forgotten Gardens    Jeffrey    John    9   \n",
       "\n",
       "  Relationship to Head of House Marital Status  Gender  \\\n",
       "0                          Head        Married  Female   \n",
       "1                       Husband        Married    Male   \n",
       "2                      Daughter             NA  Female   \n",
       "3                          Head       Divorced  Female   \n",
       "4                           Son             NA    Male   \n",
       "\n",
       "                     Occupation Infirmity   Religion  \n",
       "0                    Unemployed      None  Christian  \n",
       "1  Education officer, community      None  Christian  \n",
       "2                       Student      None       None  \n",
       "3           Administrator, arts      None  Christian  \n",
       "4                       Student      None       None  "
      ]
     },
     "execution_count": 62,
     "metadata": {},
     "output_type": "execute_result"
    }
   ],
   "source": [
    "# importing cleaned data set\n",
    "dtf = pd.read_csv('census_07_2022_clean.csv', keep_default_na=False)\n",
    "dtf.head()"
   ]
  },
  {
   "cell_type": "markdown",
   "id": "6bb91f42",
   "metadata": {},
   "source": [
    "### Adding more Features"
   ]
  },
  {
   "cell_type": "code",
   "execution_count": 63,
   "id": "d969c1f6",
   "metadata": {},
   "outputs": [],
   "source": [
    "# making a copy of the dataset for manipulation\n",
    "df = dtf.copy()"
   ]
  },
  {
   "cell_type": "code",
   "execution_count": 64,
   "id": "6ebd8e7d",
   "metadata": {},
   "outputs": [],
   "source": [
    "# Adding an address column\n",
    "df['Address'] = df['House Number'].astype(str) + ' ' + df['Street']"
   ]
  },
  {
   "cell_type": "code",
   "execution_count": 65,
   "id": "659611c8",
   "metadata": {},
   "outputs": [],
   "source": [
    "# Adding an No of House Occupants column\n",
    "df['No of House Occupants'] = df.apply(lambda row : \n",
    "                                         len(df[(df['House Number'] == row['House Number'])  \n",
    "                                         & (df['Street'] == row['Street'])]), axis = 1)"
   ]
  },
  {
   "cell_type": "code",
   "execution_count": 66,
   "id": "ab0e9aaf",
   "metadata": {},
   "outputs": [],
   "source": [
    "# Recategorizing 'Occupation' column\n",
    "lis = [\"Unemployed\", \"Child\", \"Retired\", \"University Student\", \"Student\", 'PhD Student'] # list of categories\n",
    "df.loc[df['Occupation'].str.contains('Retired'), 'Occupation'] = 'Retired' # Categorizing 'Retired' population\n",
    "df.loc[~(df['Occupation'].isin(lis)), 'Occupation'] = 'Employed' # Categorizing 'Employed' population"
   ]
  },
  {
   "cell_type": "code",
   "execution_count": 67,
   "id": "0aaf160d",
   "metadata": {},
   "outputs": [],
   "source": [
    "# Defining a function to group Ages by 5 years intervals\n",
    "\n",
    "def age_category(row):\n",
    "    age_groups = [i for i in range(4, df.Age.max()+5, 5)]\n",
    "    for i in age_groups:\n",
    "        lower_age = i-4\n",
    "        upper_age = i\n",
    "        if row['Age'] >= lower_age and row['Age'] <= upper_age:\n",
    "            return f'{lower_age}-{upper_age}'"
   ]
  },
  {
   "cell_type": "code",
   "execution_count": 68,
   "id": "a03eb2b4",
   "metadata": {},
   "outputs": [],
   "source": [
    "# Using the age_category function to create a new column 'Age Band'\n",
    "df['Age Band'] = df.apply(lambda row: age_category(row), axis=1)"
   ]
  },
  {
   "cell_type": "code",
   "execution_count": 69,
   "id": "fda152bd",
   "metadata": {},
   "outputs": [
    {
     "name": "stdout",
     "output_type": "stream",
     "text": [
      "<class 'pandas.core.frame.DataFrame'>\n",
      "RangeIndex: 7773 entries, 0 to 7772\n",
      "Data columns (total 14 columns):\n",
      " #   Column                         Non-Null Count  Dtype \n",
      "---  ------                         --------------  ----- \n",
      " 0   House Number                   7773 non-null   int64 \n",
      " 1   Street                         7773 non-null   object\n",
      " 2   First Name                     7773 non-null   object\n",
      " 3   Surname                        7773 non-null   object\n",
      " 4   Age                            7773 non-null   int64 \n",
      " 5   Relationship to Head of House  7773 non-null   object\n",
      " 6   Marital Status                 7773 non-null   object\n",
      " 7   Gender                         7773 non-null   object\n",
      " 8   Occupation                     7773 non-null   object\n",
      " 9   Infirmity                      7773 non-null   object\n",
      " 10  Religion                       7773 non-null   object\n",
      " 11  Address                        7773 non-null   object\n",
      " 12  No of House Occupants          7773 non-null   int64 \n",
      " 13  Age Band                       7773 non-null   object\n",
      "dtypes: int64(3), object(11)\n",
      "memory usage: 850.3+ KB\n"
     ]
    }
   ],
   "source": [
    "df.info()"
   ]
  },
  {
   "cell_type": "markdown",
   "id": "51129f57",
   "metadata": {},
   "source": [
    "### Data Exploration & Calculations"
   ]
  },
  {
   "cell_type": "markdown",
   "id": "15981407",
   "metadata": {},
   "source": [
    "#### Summary Statistics"
   ]
  },
  {
   "cell_type": "code",
   "execution_count": 70,
   "id": "0636715a",
   "metadata": {},
   "outputs": [
    {
     "data": {
      "application/vnd.jupyter.widget-view+json": {
       "model_id": "a1d24fa5cd0345e1899020b57b6a24e9",
       "version_major": 2,
       "version_minor": 0
      },
      "text/plain": [
       "Summarize dataset:   0%|          | 0/5 [00:00<?, ?it/s]"
      ]
     },
     "metadata": {},
     "output_type": "display_data"
    },
    {
     "data": {
      "application/vnd.jupyter.widget-view+json": {
       "model_id": "2f103520e6284c2e8b4c3e547c6e3d1b",
       "version_major": 2,
       "version_minor": 0
      },
      "text/plain": [
       "Generate report structure:   0%|          | 0/1 [00:00<?, ?it/s]"
      ]
     },
     "metadata": {},
     "output_type": "display_data"
    },
    {
     "data": {
      "application/vnd.jupyter.widget-view+json": {
       "model_id": "9b933868a87c496bb557cfce1c3d1f33",
       "version_major": 2,
       "version_minor": 0
      },
      "text/plain": [
       "Render HTML:   0%|          | 0/1 [00:00<?, ?it/s]"
      ]
     },
     "metadata": {},
     "output_type": "display_data"
    },
    {
     "data": {
      "application/vnd.jupyter.widget-view+json": {
       "model_id": "8b775121376547e1ba81d1ccce8edbf6",
       "version_major": 2,
       "version_minor": 0
      },
      "text/plain": [
       "Export report to file:   0%|          | 0/1 [00:00<?, ?it/s]"
      ]
     },
     "metadata": {},
     "output_type": "display_data"
    }
   ],
   "source": [
    "import pandas_profiling\n",
    "profile = df.profile_report(title='Census Data Report')\n",
    "profile.to_file(output_file=\"census_profiling.html\")"
   ]
  },
  {
   "cell_type": "code",
   "execution_count": 71,
   "id": "a00d7731",
   "metadata": {},
   "outputs": [
    {
     "data": {
      "text/html": [
       "<div>\n",
       "<style scoped>\n",
       "    .dataframe tbody tr th:only-of-type {\n",
       "        vertical-align: middle;\n",
       "    }\n",
       "\n",
       "    .dataframe tbody tr th {\n",
       "        vertical-align: top;\n",
       "    }\n",
       "\n",
       "    .dataframe thead th {\n",
       "        text-align: right;\n",
       "    }\n",
       "</style>\n",
       "<table border=\"1\" class=\"dataframe\">\n",
       "  <thead>\n",
       "    <tr style=\"text-align: right;\">\n",
       "      <th></th>\n",
       "      <th>House Number</th>\n",
       "      <th>Age</th>\n",
       "      <th>No of House Occupants</th>\n",
       "    </tr>\n",
       "  </thead>\n",
       "  <tbody>\n",
       "    <tr>\n",
       "      <th>count</th>\n",
       "      <td>7773.000000</td>\n",
       "      <td>7773.000000</td>\n",
       "      <td>7773.000000</td>\n",
       "    </tr>\n",
       "    <tr>\n",
       "      <th>mean</th>\n",
       "      <td>30.491316</td>\n",
       "      <td>36.501608</td>\n",
       "      <td>3.861958</td>\n",
       "    </tr>\n",
       "    <tr>\n",
       "      <th>std</th>\n",
       "      <td>36.500214</td>\n",
       "      <td>21.837111</td>\n",
       "      <td>2.751617</td>\n",
       "    </tr>\n",
       "    <tr>\n",
       "      <th>min</th>\n",
       "      <td>1.000000</td>\n",
       "      <td>0.000000</td>\n",
       "      <td>1.000000</td>\n",
       "    </tr>\n",
       "    <tr>\n",
       "      <th>25%</th>\n",
       "      <td>9.000000</td>\n",
       "      <td>19.000000</td>\n",
       "      <td>2.000000</td>\n",
       "    </tr>\n",
       "    <tr>\n",
       "      <th>50%</th>\n",
       "      <td>20.000000</td>\n",
       "      <td>36.000000</td>\n",
       "      <td>3.000000</td>\n",
       "    </tr>\n",
       "    <tr>\n",
       "      <th>75%</th>\n",
       "      <td>36.000000</td>\n",
       "      <td>52.000000</td>\n",
       "      <td>5.000000</td>\n",
       "    </tr>\n",
       "    <tr>\n",
       "      <th>max</th>\n",
       "      <td>221.000000</td>\n",
       "      <td>105.000000</td>\n",
       "      <td>22.000000</td>\n",
       "    </tr>\n",
       "  </tbody>\n",
       "</table>\n",
       "</div>"
      ],
      "text/plain": [
       "       House Number          Age  No of House Occupants\n",
       "count   7773.000000  7773.000000            7773.000000\n",
       "mean      30.491316    36.501608               3.861958\n",
       "std       36.500214    21.837111               2.751617\n",
       "min        1.000000     0.000000               1.000000\n",
       "25%        9.000000    19.000000               2.000000\n",
       "50%       20.000000    36.000000               3.000000\n",
       "75%       36.000000    52.000000               5.000000\n",
       "max      221.000000   105.000000              22.000000"
      ]
     },
     "execution_count": 71,
     "metadata": {},
     "output_type": "execute_result"
    }
   ],
   "source": [
    "df.describe()"
   ]
  },
  {
   "cell_type": "markdown",
   "id": "48ee96c5",
   "metadata": {},
   "source": [
    "#### Commuters\n",
    "N.B: The cell below generates a new sample every time it runs. Sample was exported as a csv file to properly analyse occupations."
   ]
  },
  {
   "cell_type": "code",
   "execution_count": 72,
   "id": "676d0883",
   "metadata": {},
   "outputs": [],
   "source": [
    "# sample size should be around 10% of the population\n",
    "\n",
    "# df_workers = df[df['Occupation'] == 'Employed'] \n",
    "# n = int(round(0.1 * len(df_workers), 0))\n",
    "# sample = df_workers.sample(n=n)\n",
    "\n",
    "# sample = dtf[dtf.index.isin(sample.index.tolist())]['Occupation'].value_counts()\n",
    "# sample = sample.rename_axis('job').reset_index(name='count')\n",
    "\n",
    "# sample['job'] = sample['job'].apply(str.lower)\n",
    "# sample.to_csv('sample.csv', index = False)"
   ]
  },
  {
   "cell_type": "code",
   "execution_count": 73,
   "id": "aba3888e",
   "metadata": {},
   "outputs": [
    {
     "data": {
      "text/html": [
       "<div>\n",
       "<style scoped>\n",
       "    .dataframe tbody tr th:only-of-type {\n",
       "        vertical-align: middle;\n",
       "    }\n",
       "\n",
       "    .dataframe tbody tr th {\n",
       "        vertical-align: top;\n",
       "    }\n",
       "\n",
       "    .dataframe thead th {\n",
       "        text-align: right;\n",
       "    }\n",
       "</style>\n",
       "<table border=\"1\" class=\"dataframe\">\n",
       "  <thead>\n",
       "    <tr style=\"text-align: right;\">\n",
       "      <th></th>\n",
       "      <th>job</th>\n",
       "      <th>count</th>\n",
       "    </tr>\n",
       "  </thead>\n",
       "  <tbody>\n",
       "    <tr>\n",
       "      <th>0</th>\n",
       "      <td>learning disability nurse</td>\n",
       "      <td>4</td>\n",
       "    </tr>\n",
       "    <tr>\n",
       "      <th>1</th>\n",
       "      <td>ergonomist</td>\n",
       "      <td>3</td>\n",
       "    </tr>\n",
       "    <tr>\n",
       "      <th>2</th>\n",
       "      <td>medical sales representative</td>\n",
       "      <td>3</td>\n",
       "    </tr>\n",
       "    <tr>\n",
       "      <th>3</th>\n",
       "      <td>systems analyst</td>\n",
       "      <td>3</td>\n",
       "    </tr>\n",
       "    <tr>\n",
       "      <th>4</th>\n",
       "      <td>quantity surveyor</td>\n",
       "      <td>3</td>\n",
       "    </tr>\n",
       "  </tbody>\n",
       "</table>\n",
       "</div>"
      ],
      "text/plain": [
       "                            job  count\n",
       "0     learning disability nurse      4\n",
       "1                    ergonomist      3\n",
       "2  medical sales representative      3\n",
       "3               systems analyst      3\n",
       "4             quantity surveyor      3"
      ]
     },
     "execution_count": 73,
     "metadata": {},
     "output_type": "execute_result"
    }
   ],
   "source": [
    "# importing sample file as a data frame.\n",
    "sample = pd.read_csv('sample.csv', keep_default_na=False)\n",
    "sample.head() # display first 5 rows"
   ]
  },
  {
   "cell_type": "code",
   "execution_count": 74,
   "id": "ecc09acc",
   "metadata": {},
   "outputs": [],
   "source": [
    "# defining keywords for city jobs and town jobs.\n",
    "non_commute_words = ['disability', 'learning', 'teach', 'education', 'lib', 'manager',\n",
    "                     'gov', 'community','language', 'writer', 'support', 'customer', \n",
    "                     'hotel', 'public', 'officer', 'social', 'worker', 'home', 'nurse',\n",
    "                     'furniture', 'book', 'editor', 'comptroller', 'brewer', 'radio',\n",
    "                     'general practice', 'bank', 'dietitian', 'osteopath', 'charity',\n",
    "                     'health', 'retail', 'barista', 'barrister', 'agric', 'trade', 'warehouse']\n",
    "\n",
    "commute_words = ['developer', 'archaeologist', 'hospital', 'information', 'computer',\n",
    "                 'programmer', 'industrial', 'television', 'scientist', 'surveyor',\n",
    "                 'medical', 'systems', 'director', 'animator', 'publish',\n",
    "                 'financial', 'freight', 'warden', 'adviser', 'consult', 'executive',\n",
    "                 'editor', 'translator', 'estate', 'sales', 'film', 'inspector', \n",
    "                 'licensed conveyance','museum', 'surgeon', 'scien', 'analyst', \n",
    "                 'chartered', 'corporate', 'technical', 'data', 'researcher', \n",
    "                 'airline', 'insurance', 'representative', 'practitioner', 'attorney',\n",
    "                 'solicitor', 'actor', 'civil service fast streamer', 'lexicographer',\n",
    "                 'mudlogger', 'university', 'broker', 'engineer', 'designer', 'ist']"
   ]
  },
  {
   "cell_type": "code",
   "execution_count": 75,
   "id": "8d1c3f72",
   "metadata": {},
   "outputs": [],
   "source": [
    "# function to assign jobs to commute, non_commute and 'None' categories\n",
    "def check_job(job):\n",
    "    if any(word in job for word in non_commute_words):\n",
    "        return 'non_commute'\n",
    "    elif any(word in job for word in commute_words):\n",
    "        return 'commute'\n",
    "    else:\n",
    "        return 'None'"
   ]
  },
  {
   "cell_type": "code",
   "execution_count": 76,
   "id": "2e267601",
   "metadata": {},
   "outputs": [],
   "source": [
    "# Creating a new category column by applying check_job function to Job column.\n",
    "sample['commute_or_not'] = sample.apply(lambda row: check_job(row['job']), axis=1)"
   ]
  },
  {
   "cell_type": "code",
   "execution_count": 77,
   "id": "3ac983e6",
   "metadata": {},
   "outputs": [
    {
     "data": {
      "text/html": [
       "<div>\n",
       "<style scoped>\n",
       "    .dataframe tbody tr th:only-of-type {\n",
       "        vertical-align: middle;\n",
       "    }\n",
       "\n",
       "    .dataframe tbody tr th {\n",
       "        vertical-align: top;\n",
       "    }\n",
       "\n",
       "    .dataframe thead th {\n",
       "        text-align: right;\n",
       "    }\n",
       "</style>\n",
       "<table border=\"1\" class=\"dataframe\">\n",
       "  <thead>\n",
       "    <tr style=\"text-align: right;\">\n",
       "      <th></th>\n",
       "      <th>job</th>\n",
       "      <th>count</th>\n",
       "      <th>commute_or_not</th>\n",
       "    </tr>\n",
       "  </thead>\n",
       "  <tbody>\n",
       "    <tr>\n",
       "      <th>137</th>\n",
       "      <td>make</td>\n",
       "      <td>1</td>\n",
       "      <td>None</td>\n",
       "    </tr>\n",
       "    <tr>\n",
       "      <th>167</th>\n",
       "      <td>land</td>\n",
       "      <td>1</td>\n",
       "      <td>None</td>\n",
       "    </tr>\n",
       "    <tr>\n",
       "      <th>214</th>\n",
       "      <td>copy</td>\n",
       "      <td>1</td>\n",
       "      <td>None</td>\n",
       "    </tr>\n",
       "    <tr>\n",
       "      <th>273</th>\n",
       "      <td>sub</td>\n",
       "      <td>1</td>\n",
       "      <td>None</td>\n",
       "    </tr>\n",
       "  </tbody>\n",
       "</table>\n",
       "</div>"
      ],
      "text/plain": [
       "      job  count commute_or_not\n",
       "137  make      1           None\n",
       "167  land      1           None\n",
       "214  copy      1           None\n",
       "273   sub      1           None"
      ]
     },
     "execution_count": 77,
     "metadata": {},
     "output_type": "execute_result"
    }
   ],
   "source": [
    "# Checking for jobs that were unsuccessfully categorized\n",
    "sample[sample['commute_or_not'] == 'None']"
   ]
  },
  {
   "cell_type": "code",
   "execution_count": 78,
   "id": "7e7ef0b4",
   "metadata": {},
   "outputs": [
    {
     "data": {
      "text/plain": [
       "commute        176\n",
       "non_commute    131\n",
       "None             4\n",
       "Name: commute_or_not, dtype: int64"
      ]
     },
     "execution_count": 78,
     "metadata": {},
     "output_type": "execute_result"
    }
   ],
   "source": [
    "# Checking the number of rows that belong to each 'commute_or_not' category\n",
    "sample['commute_or_not'].value_counts()"
   ]
  },
  {
   "cell_type": "code",
   "execution_count": 79,
   "id": "3626cbca",
   "metadata": {},
   "outputs": [
    {
     "data": {
      "text/html": [
       "<div>\n",
       "<style scoped>\n",
       "    .dataframe tbody tr th:only-of-type {\n",
       "        vertical-align: middle;\n",
       "    }\n",
       "\n",
       "    .dataframe tbody tr th {\n",
       "        vertical-align: top;\n",
       "    }\n",
       "\n",
       "    .dataframe thead th {\n",
       "        text-align: right;\n",
       "    }\n",
       "</style>\n",
       "<table border=\"1\" class=\"dataframe\">\n",
       "  <thead>\n",
       "    <tr style=\"text-align: right;\">\n",
       "      <th></th>\n",
       "      <th>commute_or_not</th>\n",
       "      <th>count</th>\n",
       "    </tr>\n",
       "  </thead>\n",
       "  <tbody>\n",
       "    <tr>\n",
       "      <th>0</th>\n",
       "      <td>None</td>\n",
       "      <td>4</td>\n",
       "    </tr>\n",
       "    <tr>\n",
       "      <th>1</th>\n",
       "      <td>commute</td>\n",
       "      <td>233</td>\n",
       "    </tr>\n",
       "    <tr>\n",
       "      <th>2</th>\n",
       "      <td>non_commute</td>\n",
       "      <td>177</td>\n",
       "    </tr>\n",
       "  </tbody>\n",
       "</table>\n",
       "</div>"
      ],
      "text/plain": [
       "  commute_or_not  count\n",
       "0           None      4\n",
       "1        commute    233\n",
       "2    non_commute    177"
      ]
     },
     "execution_count": 79,
     "metadata": {},
     "output_type": "execute_result"
    }
   ],
   "source": [
    "# Optimizing value count by putting count into consideration\n",
    "commute_df = sample.groupby('commute_or_not')['count'].sum().rename_axis('commute_or_not').reset_index(name='count')\n",
    "commute_df"
   ]
  },
  {
   "cell_type": "code",
   "execution_count": 80,
   "id": "0c7b8e72",
   "metadata": {},
   "outputs": [
    {
     "name": "stdout",
     "output_type": "stream",
     "text": [
      "Percentage of commuting jobs in sample:  56.0\n"
     ]
    }
   ],
   "source": [
    "# Calculating the percentage of commuting jobs out of sample size\n",
    "\n",
    "per_comm = round((commute_df.iloc[1]['count']/sample['count'].sum() * 100), 0)\n",
    "print('Percentage of commuting jobs in sample: ', per_comm)"
   ]
  },
  {
   "cell_type": "code",
   "execution_count": 81,
   "id": "aa200274",
   "metadata": {},
   "outputs": [
    {
     "name": "stdout",
     "output_type": "stream",
     "text": [
      "Percentage of commuting jobs in population:  30.0\n"
     ]
    }
   ],
   "source": [
    "# translating the percentage to the entire occupation population\n",
    "work_com = 0.56*len(df[df['Occupation'] == 'Employed'])\n",
    "\n",
    "# getting the number of students \n",
    "stu_com = len(df[df['Occupation'] == 'University Student'])\n",
    "\n",
    "print('Percentage of commuting jobs in population: ', round((work_com/len(df) * 100), 0))"
   ]
  },
  {
   "cell_type": "code",
   "execution_count": 82,
   "id": "75e81489",
   "metadata": {},
   "outputs": [
    {
     "name": "stdout",
     "output_type": "stream",
     "text": [
      "Percentage of commuters in population:  36.0\n"
     ]
    }
   ],
   "source": [
    "# calculating the percentage of total commuters in the town population.\n",
    "commute_per = round(((work_com + stu_com)/len(df) * 100), 0)\n",
    "print('Percentage of commuters in population: ', commute_per)"
   ]
  },
  {
   "cell_type": "markdown",
   "id": "eb871cf8",
   "metadata": {},
   "source": [
    "#### Population Growth Estimate"
   ]
  },
  {
   "cell_type": "code",
   "execution_count": 83,
   "id": "d62cf024",
   "metadata": {},
   "outputs": [],
   "source": [
    "# Population Growth\n",
    "# Crude Birth Rate\n",
    "\n",
    "br = len(df[df['Age'] == 0])/len(df) * 1000\n",
    "br = round(br, 2)\n"
   ]
  },
  {
   "cell_type": "code",
   "execution_count": 84,
   "id": "bb71d919",
   "metadata": {},
   "outputs": [],
   "source": [
    "# Defining a function to find the population difference between two age bands. \n",
    "# An argument is taken to define start age. In this case from Age 56\n",
    "\n",
    "def age_band_diff(age):\n",
    "    return (len(df[(df['Age'] >= age) \\\n",
    "                  & (df['Age'] <= (age+4))]) \\\n",
    "                  - len(df[(df['Age'] >= (age+5)) \\\n",
    "                  & (df['Age'] <= (age+9))]))/5 # divided by 5 to account for 5 year age groups"
   ]
  },
  {
   "cell_type": "code",
   "execution_count": 85,
   "id": "58556533",
   "metadata": {},
   "outputs": [
    {
     "name": "stdout",
     "output_type": "stream",
     "text": [
      "List of age group population differences:  [0.2, 14.2, 11.8, 10.0, 12.2, 0.4, 0.4, 1.4, 0.2]\n"
     ]
    }
   ],
   "source": [
    "# a list of age group population differences\n",
    "\n",
    "diff = [age_band_diff(i) for i in range(65, 110, 5)]\n",
    "print('List of age group population differences: ', diff)"
   ]
  },
  {
   "cell_type": "code",
   "execution_count": 86,
   "id": "3cb78b9d",
   "metadata": {},
   "outputs": [],
   "source": [
    "# calculating death rate per 1000\n",
    "\n",
    "dr = round((sum(diff)/len(df) * 1000), 2)"
   ]
  },
  {
   "cell_type": "code",
   "execution_count": 87,
   "id": "68ef97cf",
   "metadata": {},
   "outputs": [],
   "source": [
    "# Immigration\n",
    "\n",
    "imm = df[(df['Relationship to Head of House'].isin(['Lodger', 'Visitor'])) \\\n",
    "       & (df['Marital Status'].isin(['Single', 'Widowed'])) \\\n",
    "       & (df['Occupation'] != 'University Student')]\n",
    "\n",
    "imm = round((len(imm)/len(df) * 1000),2)"
   ]
  },
  {
   "cell_type": "code",
   "execution_count": 88,
   "id": "61d93b3a",
   "metadata": {},
   "outputs": [],
   "source": [
    "# Extracting number of divorcees per gender from the dataset (excluding students).\n",
    "\n",
    "em = df[(df['Marital Status'] == 'Divorced') & \\\n",
    "       ((df['Occupation'] != 'University Student'))]['Gender'].value_counts() "
   ]
  },
  {
   "cell_type": "code",
   "execution_count": 89,
   "id": "f8156479",
   "metadata": {},
   "outputs": [],
   "source": [
    "# Calculating the difference between female and male divorcee count and finding rate per 1000 population\n",
    "\n",
    "em = (em.values[0] - em.values[1])/len(df) * 1000\n",
    "em = round(em, 2)"
   ]
  },
  {
   "cell_type": "code",
   "execution_count": 90,
   "id": "7a0b8617",
   "metadata": {},
   "outputs": [],
   "source": [
    "# Population Growth\n",
    "\n",
    "PG = ((br + imm) - (dr + em))*0.1\n",
    "PG = round((PG), 2)"
   ]
  },
  {
   "cell_type": "code",
   "execution_count": 91,
   "id": "c42baa1a",
   "metadata": {},
   "outputs": [
    {
     "name": "stdout",
     "output_type": "stream",
     "text": [
      "Crude Birth Rate per 1000:  7.59\n",
      "Crude Death Rate per 1000:  6.54\n",
      "Net Immigration per 1000:  26.5\n",
      "Net Emigration per 1000:  23.93\n",
      "% Population Growth: 0.36%\n"
     ]
    }
   ],
   "source": [
    "# Displaying all parameters\n",
    "\n",
    "print('Crude Birth Rate per 1000: ', br)\n",
    "print('Crude Death Rate per 1000: ', dr)\n",
    "print('Net Immigration per 1000: ', imm)\n",
    "print('Net Emigration per 1000: ', em)\n",
    "print(f'% Population Growth: {PG}%')"
   ]
  },
  {
   "cell_type": "markdown",
   "id": "86051187",
   "metadata": {},
   "source": [
    "#### Unemployment Rate"
   ]
  },
  {
   "cell_type": "code",
   "execution_count": 92,
   "id": "2f2c3f6c",
   "metadata": {},
   "outputs": [
    {
     "name": "stdout",
     "output_type": "stream",
     "text": [
      "Unemployment Rate:  8.403041825095057\n"
     ]
    }
   ],
   "source": [
    "# % Unemployment \n",
    "\n",
    "unemp = len(df[df['Occupation'] == 'Unemployed'])/len(df[(df['Age'] >= 16) & (df['Age'] <= 64)]) * 100\n",
    "print('Unemployment Rate: ', unemp)"
   ]
  },
  {
   "cell_type": "code",
   "execution_count": 93,
   "id": "be40b6cb",
   "metadata": {},
   "outputs": [
    {
     "name": "stdout",
     "output_type": "stream",
     "text": [
      "Employment Rate:  78.76425855513308\n"
     ]
    }
   ],
   "source": [
    "# % Employment \n",
    "\n",
    "emp = len(df[df['Occupation'] == 'Employed'])/len(df[(df['Age'] >= 16) & (df['Age'] <= 64)]) * 100\n",
    "print('Employment Rate: ', emp)"
   ]
  },
  {
   "cell_type": "markdown",
   "id": "4f6eb3f9",
   "metadata": {},
   "source": [
    "#### Retirement"
   ]
  },
  {
   "cell_type": "code",
   "execution_count": 94,
   "id": "2c79d9d9",
   "metadata": {},
   "outputs": [
    {
     "name": "stdout",
     "output_type": "stream",
     "text": [
      "Percentage of Delayed Retirement:  10.635838150289018\n"
     ]
    }
   ],
   "source": [
    "# Calculationg Percentage of Delayed/late retirement \n",
    "\n",
    "ret = len(df[(df['Occupation'] != 'Retired') & (df['Age'] > 65)])/len(df[df['Age'] > 65]) * 100\n",
    "print('Percentage of Delayed Retirement: ', ret)"
   ]
  },
  {
   "cell_type": "markdown",
   "id": "85569ba9",
   "metadata": {},
   "source": [
    "#### Infirmity"
   ]
  },
  {
   "cell_type": "code",
   "execution_count": 95,
   "id": "6a225570",
   "metadata": {},
   "outputs": [
    {
     "name": "stdout",
     "output_type": "stream",
     "text": [
      "Percentage of Infirmity Cases: 0.59%\n"
     ]
    }
   ],
   "source": [
    "# Calculating the percentage of Infirmity across the population\n",
    "\n",
    "inf = len(df[df['Infirmity'] != 'None'])/len(df)*100\n",
    "print(f'Percentage of Infirmity Cases: {round(inf, 2)}%')"
   ]
  },
  {
   "cell_type": "markdown",
   "id": "069ab9eb",
   "metadata": {},
   "source": [
    "#### Marital Status Percentage"
   ]
  },
  {
   "cell_type": "code",
   "execution_count": 96,
   "id": "bfec806a",
   "metadata": {},
   "outputs": [
    {
     "data": {
      "text/html": [
       "<div>\n",
       "<style scoped>\n",
       "    .dataframe tbody tr th:only-of-type {\n",
       "        vertical-align: middle;\n",
       "    }\n",
       "\n",
       "    .dataframe tbody tr th {\n",
       "        vertical-align: top;\n",
       "    }\n",
       "\n",
       "    .dataframe thead th {\n",
       "        text-align: right;\n",
       "    }\n",
       "</style>\n",
       "<table border=\"1\" class=\"dataframe\">\n",
       "  <thead>\n",
       "    <tr style=\"text-align: right;\">\n",
       "      <th></th>\n",
       "      <th>House Number</th>\n",
       "      <th>Street</th>\n",
       "      <th>First Name</th>\n",
       "      <th>Surname</th>\n",
       "      <th>Age</th>\n",
       "      <th>Relationship to Head of House</th>\n",
       "      <th>Marital Status</th>\n",
       "      <th>Gender</th>\n",
       "      <th>Occupation</th>\n",
       "      <th>Infirmity</th>\n",
       "      <th>Religion</th>\n",
       "      <th>Address</th>\n",
       "      <th>No of House Occupants</th>\n",
       "      <th>Age Band</th>\n",
       "    </tr>\n",
       "  </thead>\n",
       "  <tbody>\n",
       "  </tbody>\n",
       "</table>\n",
       "</div>"
      ],
      "text/plain": [
       "Empty DataFrame\n",
       "Columns: [House Number, Street, First Name, Surname, Age, Relationship to Head of House, Marital Status, Gender, Occupation, Infirmity, Religion, Address, No of House Occupants, Age Band]\n",
       "Index: []"
      ]
     },
     "execution_count": 96,
     "metadata": {},
     "output_type": "execute_result"
    }
   ],
   "source": [
    "df[(df['Age'] > 15) & (df['Marital Status'] == 'NA')]"
   ]
  },
  {
   "cell_type": "code",
   "execution_count": 97,
   "id": "2e33b26d",
   "metadata": {},
   "outputs": [
    {
     "name": "stdout",
     "output_type": "stream",
     "text": [
      "Percentage Married: 35.6%\n",
      "Percentage Divorced: 11.4%\n",
      "Percentage Widowed: 6.5%\n",
      "Percentage Single: 43.1%\n",
      "Percentage Unknown: 3.5%\n"
     ]
    }
   ],
   "source": [
    "# Computing the percentage of each marital status out of population aged over 15. \n",
    "\n",
    "status = df['Marital Status'].unique().tolist()\n",
    "status.remove('NA')\n",
    "t = len(df[df['Age'] > 15])\n",
    "\n",
    "for s in status:\n",
    "    p = len(df[df['Marital Status'] == s])/t * 100\n",
    "    print(f'Percentage {s}: {round(p, 1)}%')"
   ]
  },
  {
   "cell_type": "code",
   "execution_count": 98,
   "id": "f7ccd229",
   "metadata": {},
   "outputs": [
    {
     "name": "stdout",
     "output_type": "stream",
     "text": [
      "Mode: 1\n",
      "Median: 3.0\n"
     ]
    }
   ],
   "source": [
    "# finding the average number of occupants in divorcee homes\n",
    "\n",
    "mod = df[df['Marital Status'] == 'Divorced']['No of House Occupants'].mode()\n",
    "med = df[df['Marital Status'] == 'Divorced']['No of House Occupants'].median()\n",
    "\n",
    "print(f'Mode: {mod[0]}\\nMedian: {med}')"
   ]
  },
  {
   "cell_type": "markdown",
   "id": "2e135dff",
   "metadata": {},
   "source": [
    "#### Household Statistics"
   ]
  },
  {
   "cell_type": "code",
   "execution_count": 99,
   "id": "ddcdcf64",
   "metadata": {},
   "outputs": [
    {
     "name": "stdout",
     "output_type": "stream",
     "text": [
      "Number of Total Houses: 2912         \n",
      "Number of family households: 1869         \n",
      "Percentage of family households: 64.0%          \n",
      "No of family members per household: 2.0\n"
     ]
    }
   ],
   "source": [
    "# calculating some features on housing \n",
    "\n",
    "# number of houses using length of unique addresses\n",
    "houses = len(df['Address'].unique()) \n",
    "\n",
    "# getting the dataset of family members in the population\n",
    "family = df[~df['Relationship to Head of House'].isin(['None', 'Lodger', 'Visitor', 'Head'])]\n",
    "\n",
    "# number of family houses \n",
    "fam_houses = len(family['Address'].unique())\n",
    "\n",
    "# computing percentage of households\n",
    "fam_per = fam_houses/houses * 100 \n",
    "\n",
    "# computing ratio of family members to households.\n",
    "fam_rt = len(family)/fam_houses \n",
    "\n",
    "# printing outputs\n",
    "print(f'Number of Total Houses: {houses} \\\n",
    "        \\nNumber of family households: {fam_houses} \\\n",
    "        \\nPercentage of family households: {round(fam_per, 0)}% \\\n",
    "         \\nNo of family members per household: {round(fam_rt, 0)}')"
   ]
  },
  {
   "cell_type": "markdown",
   "id": "4ad8b43b",
   "metadata": {},
   "source": [
    "### Data Visualization"
   ]
  },
  {
   "cell_type": "code",
   "execution_count": 100,
   "id": "06b448ef",
   "metadata": {},
   "outputs": [],
   "source": [
    "save_fig = {}"
   ]
  },
  {
   "cell_type": "code",
   "execution_count": 101,
   "id": "1943b67e",
   "metadata": {},
   "outputs": [],
   "source": [
    "# a function to group categorical data by making them headers and their counts, the corresponding row values. \n",
    "# The function takes the column to be counted by age group as a parameter.\n",
    "\n",
    "def group_by_age(column):\n",
    "    age_groups = [i for i in range(4, df.Age.max()+5, 5)] # creating age bands\n",
    "    category = df[column].unique().tolist() # extracting categorical headers\n",
    "    data_ = []\n",
    "    \n",
    "    for age in age_groups:\n",
    "        subset = df[(df['Age'] >= age-4) & (df['Age'] <= age)]\n",
    "        data_list = [f'{age-4}-{age}'] + [len(subset[subset[column] == c]) for c in category]\n",
    "        \n",
    "        data_.append(data_list)\n",
    "    \n",
    "    columns = ['Age Range'] + category\n",
    "\n",
    "    _df = pd.DataFrame(data_, columns=columns) # converting to data frame.\n",
    "    \n",
    "    return _df"
   ]
  },
  {
   "cell_type": "markdown",
   "id": "7740b3e2",
   "metadata": {},
   "source": [
    "### Population Pyramid"
   ]
  },
  {
   "cell_type": "code",
   "execution_count": 102,
   "id": "def730c4",
   "metadata": {},
   "outputs": [],
   "source": [
    "# grouping gender count by age bands\n",
    "age_df = group_by_age('Gender')"
   ]
  },
  {
   "cell_type": "code",
   "execution_count": 103,
   "id": "f5abc5d2",
   "metadata": {},
   "outputs": [
    {
     "data": {
      "text/html": [
       "<div>\n",
       "<style scoped>\n",
       "    .dataframe tbody tr th:only-of-type {\n",
       "        vertical-align: middle;\n",
       "    }\n",
       "\n",
       "    .dataframe tbody tr th {\n",
       "        vertical-align: top;\n",
       "    }\n",
       "\n",
       "    .dataframe thead th {\n",
       "        text-align: right;\n",
       "    }\n",
       "</style>\n",
       "<table border=\"1\" class=\"dataframe\">\n",
       "  <thead>\n",
       "    <tr style=\"text-align: right;\">\n",
       "      <th></th>\n",
       "      <th>Age Range</th>\n",
       "      <th>Female</th>\n",
       "      <th>Male</th>\n",
       "    </tr>\n",
       "  </thead>\n",
       "  <tbody>\n",
       "    <tr>\n",
       "      <th>0</th>\n",
       "      <td>0-4</td>\n",
       "      <td>198</td>\n",
       "      <td>235</td>\n",
       "    </tr>\n",
       "    <tr>\n",
       "      <th>1</th>\n",
       "      <td>5-9</td>\n",
       "      <td>265</td>\n",
       "      <td>262</td>\n",
       "    </tr>\n",
       "    <tr>\n",
       "      <th>2</th>\n",
       "      <td>10-14</td>\n",
       "      <td>233</td>\n",
       "      <td>302</td>\n",
       "    </tr>\n",
       "    <tr>\n",
       "      <th>3</th>\n",
       "      <td>15-19</td>\n",
       "      <td>280</td>\n",
       "      <td>286</td>\n",
       "    </tr>\n",
       "    <tr>\n",
       "      <th>4</th>\n",
       "      <td>20-24</td>\n",
       "      <td>279</td>\n",
       "      <td>278</td>\n",
       "    </tr>\n",
       "    <tr>\n",
       "      <th>5</th>\n",
       "      <td>25-29</td>\n",
       "      <td>287</td>\n",
       "      <td>264</td>\n",
       "    </tr>\n",
       "    <tr>\n",
       "      <th>6</th>\n",
       "      <td>30-34</td>\n",
       "      <td>291</td>\n",
       "      <td>262</td>\n",
       "    </tr>\n",
       "    <tr>\n",
       "      <th>7</th>\n",
       "      <td>35-39</td>\n",
       "      <td>381</td>\n",
       "      <td>285</td>\n",
       "    </tr>\n",
       "    <tr>\n",
       "      <th>8</th>\n",
       "      <td>40-44</td>\n",
       "      <td>333</td>\n",
       "      <td>295</td>\n",
       "    </tr>\n",
       "    <tr>\n",
       "      <th>9</th>\n",
       "      <td>45-49</td>\n",
       "      <td>323</td>\n",
       "      <td>252</td>\n",
       "    </tr>\n",
       "    <tr>\n",
       "      <th>10</th>\n",
       "      <td>50-54</td>\n",
       "      <td>251</td>\n",
       "      <td>227</td>\n",
       "    </tr>\n",
       "    <tr>\n",
       "      <th>11</th>\n",
       "      <td>55-59</td>\n",
       "      <td>217</td>\n",
       "      <td>215</td>\n",
       "    </tr>\n",
       "    <tr>\n",
       "      <th>12</th>\n",
       "      <td>60-64</td>\n",
       "      <td>175</td>\n",
       "      <td>181</td>\n",
       "    </tr>\n",
       "    <tr>\n",
       "      <th>13</th>\n",
       "      <td>65-69</td>\n",
       "      <td>146</td>\n",
       "      <td>108</td>\n",
       "    </tr>\n",
       "    <tr>\n",
       "      <th>14</th>\n",
       "      <td>70-74</td>\n",
       "      <td>144</td>\n",
       "      <td>109</td>\n",
       "    </tr>\n",
       "    <tr>\n",
       "      <th>15</th>\n",
       "      <td>75-79</td>\n",
       "      <td>96</td>\n",
       "      <td>86</td>\n",
       "    </tr>\n",
       "    <tr>\n",
       "      <th>16</th>\n",
       "      <td>80-84</td>\n",
       "      <td>67</td>\n",
       "      <td>56</td>\n",
       "    </tr>\n",
       "    <tr>\n",
       "      <th>17</th>\n",
       "      <td>85-89</td>\n",
       "      <td>35</td>\n",
       "      <td>38</td>\n",
       "    </tr>\n",
       "    <tr>\n",
       "      <th>18</th>\n",
       "      <td>90-94</td>\n",
       "      <td>5</td>\n",
       "      <td>7</td>\n",
       "    </tr>\n",
       "    <tr>\n",
       "      <th>19</th>\n",
       "      <td>95-99</td>\n",
       "      <td>5</td>\n",
       "      <td>5</td>\n",
       "    </tr>\n",
       "    <tr>\n",
       "      <th>20</th>\n",
       "      <td>100-104</td>\n",
       "      <td>5</td>\n",
       "      <td>3</td>\n",
       "    </tr>\n",
       "    <tr>\n",
       "      <th>21</th>\n",
       "      <td>105-109</td>\n",
       "      <td>0</td>\n",
       "      <td>1</td>\n",
       "    </tr>\n",
       "  </tbody>\n",
       "</table>\n",
       "</div>"
      ],
      "text/plain": [
       "   Age Range  Female  Male\n",
       "0        0-4     198   235\n",
       "1        5-9     265   262\n",
       "2      10-14     233   302\n",
       "3      15-19     280   286\n",
       "4      20-24     279   278\n",
       "5      25-29     287   264\n",
       "6      30-34     291   262\n",
       "7      35-39     381   285\n",
       "8      40-44     333   295\n",
       "9      45-49     323   252\n",
       "10     50-54     251   227\n",
       "11     55-59     217   215\n",
       "12     60-64     175   181\n",
       "13     65-69     146   108\n",
       "14     70-74     144   109\n",
       "15     75-79      96    86\n",
       "16     80-84      67    56\n",
       "17     85-89      35    38\n",
       "18     90-94       5     7\n",
       "19     95-99       5     5\n",
       "20   100-104       5     3\n",
       "21   105-109       0     1"
      ]
     },
     "execution_count": 103,
     "metadata": {},
     "output_type": "execute_result"
    }
   ],
   "source": [
    "age_df # display age-gender dataframe"
   ]
  },
  {
   "cell_type": "code",
   "execution_count": 104,
   "id": "d69fe41e",
   "metadata": {},
   "outputs": [
    {
     "data": {
      "image/png": "[encoded data removed]",
      "text/plain": [
       "<Figure size 1200x800 with 1 Axes>"
      ]
     },
     "metadata": {},
     "output_type": "display_data"
    }
   ],
   "source": [
    "# Plotting a population pyramid \n",
    "\n",
    "from matplotlib.patches import Patch\n",
    "\n",
    "sns.set(style=\"whitegrid\")\n",
    "plt.figure(dpi=200)\n",
    "\n",
    "population_pyramid = sns.barplot(x=age_df['Male']*-1, \n",
    "                                 y='Age Range', \n",
    "                                 data=age_df, \n",
    "                                 order=age_df['Age Range'][::-1], \n",
    "                                 color=\"darkblue\"\n",
    "                                )\n",
    "\n",
    "population_pyramid = sns.barplot(x='Female', \n",
    "                                 y='Age Range', \n",
    "                                 data=age_df, \n",
    "                                 order=age_df['Age Range'][::-1], \n",
    "                                 color=\"crimson\"\n",
    "                                )\n",
    "\n",
    "\n",
    "plt.title(\"Population pyramid\")\n",
    "plt.xlabel(\"Population Count\")\n",
    "plt.ylabel(\"Age Groups\")\n",
    "gender_color = {'Female': 'crimson', 'Male': 'darkblue'}\n",
    "legend_elements = [Patch(facecolor=gender_color[gen], label=gen) for gen in gender_color]\n",
    "plt.legend(handles=legend_elements)\n",
    "plt.grid()\n",
    "\n",
    "plt.xticks(ticks=[i for i in range(-400, 500, 100)])\n",
    "plt.tight_layout()\n",
    "plt.show()\n",
    "\n",
    "save_fig['./population_pyramid.png'] = population_pyramid"
   ]
  },
  {
   "cell_type": "markdown",
   "id": "4effad2c",
   "metadata": {},
   "source": [
    "### Occupation Trend"
   ]
  },
  {
   "cell_type": "code",
   "execution_count": 105,
   "id": "29afa1d4",
   "metadata": {},
   "outputs": [
    {
     "name": "stdout",
     "output_type": "stream",
     "text": [
      "Median Age of Unemployed Population:  42.0\n"
     ]
    }
   ],
   "source": [
    "# Finding the median age of unemployed population\n",
    "\n",
    "unemp = df[df['Occupation'] == 'Unemployed']['Age'].median()\n",
    "print('Median Age of Unemployed Population: ', unemp)"
   ]
  },
  {
   "cell_type": "code",
   "execution_count": 106,
   "id": "4b8e7c5c",
   "metadata": {},
   "outputs": [],
   "source": [
    "# grouping occupation category counts by age bands\n",
    "\n",
    "occupation_df = group_by_age('Occupation')"
   ]
  },
  {
   "cell_type": "code",
   "execution_count": 107,
   "id": "0edd09e4",
   "metadata": {},
   "outputs": [
    {
     "data": {
      "text/html": [
       "<div>\n",
       "<style scoped>\n",
       "    .dataframe tbody tr th:only-of-type {\n",
       "        vertical-align: middle;\n",
       "    }\n",
       "\n",
       "    .dataframe tbody tr th {\n",
       "        vertical-align: top;\n",
       "    }\n",
       "\n",
       "    .dataframe thead th {\n",
       "        text-align: right;\n",
       "    }\n",
       "</style>\n",
       "<table border=\"1\" class=\"dataframe\">\n",
       "  <thead>\n",
       "    <tr style=\"text-align: right;\">\n",
       "      <th></th>\n",
       "      <th>Age Range</th>\n",
       "      <th>Unemployed</th>\n",
       "      <th>Employed</th>\n",
       "      <th>Student</th>\n",
       "      <th>Retired</th>\n",
       "      <th>Child</th>\n",
       "      <th>University Student</th>\n",
       "      <th>PhD Student</th>\n",
       "    </tr>\n",
       "  </thead>\n",
       "  <tbody>\n",
       "    <tr>\n",
       "      <th>0</th>\n",
       "      <td>0-4</td>\n",
       "      <td>0</td>\n",
       "      <td>0</td>\n",
       "      <td>0</td>\n",
       "      <td>0</td>\n",
       "      <td>433</td>\n",
       "      <td>0</td>\n",
       "      <td>0</td>\n",
       "    </tr>\n",
       "    <tr>\n",
       "      <th>1</th>\n",
       "      <td>5-9</td>\n",
       "      <td>0</td>\n",
       "      <td>0</td>\n",
       "      <td>527</td>\n",
       "      <td>0</td>\n",
       "      <td>0</td>\n",
       "      <td>0</td>\n",
       "      <td>0</td>\n",
       "    </tr>\n",
       "    <tr>\n",
       "      <th>2</th>\n",
       "      <td>10-14</td>\n",
       "      <td>0</td>\n",
       "      <td>0</td>\n",
       "      <td>535</td>\n",
       "      <td>0</td>\n",
       "      <td>0</td>\n",
       "      <td>0</td>\n",
       "      <td>0</td>\n",
       "    </tr>\n",
       "    <tr>\n",
       "      <th>3</th>\n",
       "      <td>15-19</td>\n",
       "      <td>2</td>\n",
       "      <td>4</td>\n",
       "      <td>415</td>\n",
       "      <td>0</td>\n",
       "      <td>0</td>\n",
       "      <td>145</td>\n",
       "      <td>0</td>\n",
       "    </tr>\n",
       "    <tr>\n",
       "      <th>4</th>\n",
       "      <td>20-24</td>\n",
       "      <td>20</td>\n",
       "      <td>192</td>\n",
       "      <td>0</td>\n",
       "      <td>0</td>\n",
       "      <td>0</td>\n",
       "      <td>343</td>\n",
       "      <td>2</td>\n",
       "    </tr>\n",
       "    <tr>\n",
       "      <th>5</th>\n",
       "      <td>25-29</td>\n",
       "      <td>48</td>\n",
       "      <td>493</td>\n",
       "      <td>0</td>\n",
       "      <td>0</td>\n",
       "      <td>0</td>\n",
       "      <td>0</td>\n",
       "      <td>10</td>\n",
       "    </tr>\n",
       "    <tr>\n",
       "      <th>6</th>\n",
       "      <td>30-34</td>\n",
       "      <td>54</td>\n",
       "      <td>497</td>\n",
       "      <td>0</td>\n",
       "      <td>0</td>\n",
       "      <td>0</td>\n",
       "      <td>0</td>\n",
       "      <td>2</td>\n",
       "    </tr>\n",
       "    <tr>\n",
       "      <th>7</th>\n",
       "      <td>35-39</td>\n",
       "      <td>70</td>\n",
       "      <td>596</td>\n",
       "      <td>0</td>\n",
       "      <td>0</td>\n",
       "      <td>0</td>\n",
       "      <td>0</td>\n",
       "      <td>0</td>\n",
       "    </tr>\n",
       "    <tr>\n",
       "      <th>8</th>\n",
       "      <td>40-44</td>\n",
       "      <td>66</td>\n",
       "      <td>562</td>\n",
       "      <td>0</td>\n",
       "      <td>0</td>\n",
       "      <td>0</td>\n",
       "      <td>0</td>\n",
       "      <td>0</td>\n",
       "    </tr>\n",
       "    <tr>\n",
       "      <th>9</th>\n",
       "      <td>45-49</td>\n",
       "      <td>64</td>\n",
       "      <td>511</td>\n",
       "      <td>0</td>\n",
       "      <td>0</td>\n",
       "      <td>0</td>\n",
       "      <td>0</td>\n",
       "      <td>0</td>\n",
       "    </tr>\n",
       "    <tr>\n",
       "      <th>10</th>\n",
       "      <td>50-54</td>\n",
       "      <td>43</td>\n",
       "      <td>435</td>\n",
       "      <td>0</td>\n",
       "      <td>0</td>\n",
       "      <td>0</td>\n",
       "      <td>0</td>\n",
       "      <td>0</td>\n",
       "    </tr>\n",
       "    <tr>\n",
       "      <th>11</th>\n",
       "      <td>55-59</td>\n",
       "      <td>41</td>\n",
       "      <td>391</td>\n",
       "      <td>0</td>\n",
       "      <td>0</td>\n",
       "      <td>0</td>\n",
       "      <td>0</td>\n",
       "      <td>0</td>\n",
       "    </tr>\n",
       "    <tr>\n",
       "      <th>12</th>\n",
       "      <td>60-64</td>\n",
       "      <td>34</td>\n",
       "      <td>322</td>\n",
       "      <td>0</td>\n",
       "      <td>0</td>\n",
       "      <td>0</td>\n",
       "      <td>0</td>\n",
       "      <td>0</td>\n",
       "    </tr>\n",
       "    <tr>\n",
       "      <th>13</th>\n",
       "      <td>65-69</td>\n",
       "      <td>0</td>\n",
       "      <td>140</td>\n",
       "      <td>0</td>\n",
       "      <td>114</td>\n",
       "      <td>0</td>\n",
       "      <td>0</td>\n",
       "      <td>0</td>\n",
       "    </tr>\n",
       "    <tr>\n",
       "      <th>14</th>\n",
       "      <td>70-74</td>\n",
       "      <td>0</td>\n",
       "      <td>0</td>\n",
       "      <td>0</td>\n",
       "      <td>253</td>\n",
       "      <td>0</td>\n",
       "      <td>0</td>\n",
       "      <td>0</td>\n",
       "    </tr>\n",
       "    <tr>\n",
       "      <th>15</th>\n",
       "      <td>75-79</td>\n",
       "      <td>0</td>\n",
       "      <td>0</td>\n",
       "      <td>0</td>\n",
       "      <td>182</td>\n",
       "      <td>0</td>\n",
       "      <td>0</td>\n",
       "      <td>0</td>\n",
       "    </tr>\n",
       "    <tr>\n",
       "      <th>16</th>\n",
       "      <td>80-84</td>\n",
       "      <td>0</td>\n",
       "      <td>0</td>\n",
       "      <td>0</td>\n",
       "      <td>123</td>\n",
       "      <td>0</td>\n",
       "      <td>0</td>\n",
       "      <td>0</td>\n",
       "    </tr>\n",
       "    <tr>\n",
       "      <th>17</th>\n",
       "      <td>85-89</td>\n",
       "      <td>0</td>\n",
       "      <td>0</td>\n",
       "      <td>0</td>\n",
       "      <td>73</td>\n",
       "      <td>0</td>\n",
       "      <td>0</td>\n",
       "      <td>0</td>\n",
       "    </tr>\n",
       "    <tr>\n",
       "      <th>18</th>\n",
       "      <td>90-94</td>\n",
       "      <td>0</td>\n",
       "      <td>0</td>\n",
       "      <td>0</td>\n",
       "      <td>12</td>\n",
       "      <td>0</td>\n",
       "      <td>0</td>\n",
       "      <td>0</td>\n",
       "    </tr>\n",
       "    <tr>\n",
       "      <th>19</th>\n",
       "      <td>95-99</td>\n",
       "      <td>0</td>\n",
       "      <td>0</td>\n",
       "      <td>0</td>\n",
       "      <td>10</td>\n",
       "      <td>0</td>\n",
       "      <td>0</td>\n",
       "      <td>0</td>\n",
       "    </tr>\n",
       "    <tr>\n",
       "      <th>20</th>\n",
       "      <td>100-104</td>\n",
       "      <td>0</td>\n",
       "      <td>0</td>\n",
       "      <td>0</td>\n",
       "      <td>8</td>\n",
       "      <td>0</td>\n",
       "      <td>0</td>\n",
       "      <td>0</td>\n",
       "    </tr>\n",
       "    <tr>\n",
       "      <th>21</th>\n",
       "      <td>105-109</td>\n",
       "      <td>0</td>\n",
       "      <td>0</td>\n",
       "      <td>0</td>\n",
       "      <td>1</td>\n",
       "      <td>0</td>\n",
       "      <td>0</td>\n",
       "      <td>0</td>\n",
       "    </tr>\n",
       "  </tbody>\n",
       "</table>\n",
       "</div>"
      ],
      "text/plain": [
       "   Age Range  Unemployed  Employed  Student  Retired  Child  \\\n",
       "0        0-4           0         0        0        0    433   \n",
       "1        5-9           0         0      527        0      0   \n",
       "2      10-14           0         0      535        0      0   \n",
       "3      15-19           2         4      415        0      0   \n",
       "4      20-24          20       192        0        0      0   \n",
       "5      25-29          48       493        0        0      0   \n",
       "6      30-34          54       497        0        0      0   \n",
       "7      35-39          70       596        0        0      0   \n",
       "8      40-44          66       562        0        0      0   \n",
       "9      45-49          64       511        0        0      0   \n",
       "10     50-54          43       435        0        0      0   \n",
       "11     55-59          41       391        0        0      0   \n",
       "12     60-64          34       322        0        0      0   \n",
       "13     65-69           0       140        0      114      0   \n",
       "14     70-74           0         0        0      253      0   \n",
       "15     75-79           0         0        0      182      0   \n",
       "16     80-84           0         0        0      123      0   \n",
       "17     85-89           0         0        0       73      0   \n",
       "18     90-94           0         0        0       12      0   \n",
       "19     95-99           0         0        0       10      0   \n",
       "20   100-104           0         0        0        8      0   \n",
       "21   105-109           0         0        0        1      0   \n",
       "\n",
       "    University Student  PhD Student  \n",
       "0                    0            0  \n",
       "1                    0            0  \n",
       "2                    0            0  \n",
       "3                  145            0  \n",
       "4                  343            2  \n",
       "5                    0           10  \n",
       "6                    0            2  \n",
       "7                    0            0  \n",
       "8                    0            0  \n",
       "9                    0            0  \n",
       "10                   0            0  \n",
       "11                   0            0  \n",
       "12                   0            0  \n",
       "13                   0            0  \n",
       "14                   0            0  \n",
       "15                   0            0  \n",
       "16                   0            0  \n",
       "17                   0            0  \n",
       "18                   0            0  \n",
       "19                   0            0  \n",
       "20                   0            0  \n",
       "21                   0            0  "
      ]
     },
     "execution_count": 107,
     "metadata": {},
     "output_type": "execute_result"
    }
   ],
   "source": [
    "occupation_df"
   ]
  },
  {
   "cell_type": "code",
   "execution_count": 108,
   "id": "52fe8f96",
   "metadata": {},
   "outputs": [
    {
     "data": {
      "text/plain": [
       "<Figure size 1200x800 with 0 Axes>"
      ]
     },
     "metadata": {},
     "output_type": "display_data"
    },
    {
     "data": {
      "image/png": "[encoded data removed]",
      "text/plain": [
       "<Figure size 864x720 with 1 Axes>"
      ]
     },
     "metadata": {},
     "output_type": "display_data"
    }
   ],
   "source": [
    "# plotting a simple bar chart with derived data frame to show occupation ditribution across age groups.\n",
    "\n",
    "sns.set(style=\"whitegrid\")\n",
    "plt.figure(dpi=200)\n",
    "occupation_plot = occupation_df.plot(figsize=(12,10), kind='bar', x='Age Range', stacked=True)\n",
    "plt.title('Occupation-Age Distribution')  \n",
    "plt.show()\n",
    "\n",
    "save_fig['./occupation_plot.png'] = occupation_plot"
   ]
  },
  {
   "cell_type": "markdown",
   "id": "096b9e8b",
   "metadata": {},
   "source": [
    "### Religion "
   ]
  },
  {
   "cell_type": "code",
   "execution_count": 109,
   "id": "bb87320c",
   "metadata": {},
   "outputs": [
    {
     "data": {
      "text/html": [
       "<div>\n",
       "<style scoped>\n",
       "    .dataframe tbody tr th:only-of-type {\n",
       "        vertical-align: middle;\n",
       "    }\n",
       "\n",
       "    .dataframe tbody tr th {\n",
       "        vertical-align: top;\n",
       "    }\n",
       "\n",
       "    .dataframe thead th {\n",
       "        text-align: right;\n",
       "    }\n",
       "</style>\n",
       "<table border=\"1\" class=\"dataframe\">\n",
       "  <thead>\n",
       "    <tr style=\"text-align: right;\">\n",
       "      <th></th>\n",
       "      <th>Age</th>\n",
       "    </tr>\n",
       "    <tr>\n",
       "      <th>Religion</th>\n",
       "      <th></th>\n",
       "    </tr>\n",
       "  </thead>\n",
       "  <tbody>\n",
       "    <tr>\n",
       "      <th>Bahai</th>\n",
       "      <td>43.0</td>\n",
       "    </tr>\n",
       "    <tr>\n",
       "      <th>Baptist</th>\n",
       "      <td>24.0</td>\n",
       "    </tr>\n",
       "    <tr>\n",
       "      <th>Buddist</th>\n",
       "      <td>26.0</td>\n",
       "    </tr>\n",
       "    <tr>\n",
       "      <th>Catholic</th>\n",
       "      <td>41.0</td>\n",
       "    </tr>\n",
       "    <tr>\n",
       "      <th>Christian</th>\n",
       "      <td>52.0</td>\n",
       "    </tr>\n",
       "    <tr>\n",
       "      <th>Jewish</th>\n",
       "      <td>46.0</td>\n",
       "    </tr>\n",
       "    <tr>\n",
       "      <th>Methodist</th>\n",
       "      <td>42.0</td>\n",
       "    </tr>\n",
       "    <tr>\n",
       "      <th>Muslim</th>\n",
       "      <td>31.0</td>\n",
       "    </tr>\n",
       "    <tr>\n",
       "      <th>None</th>\n",
       "      <td>24.0</td>\n",
       "    </tr>\n",
       "    <tr>\n",
       "      <th>Orthodoxy</th>\n",
       "      <td>26.0</td>\n",
       "    </tr>\n",
       "    <tr>\n",
       "      <th>Sikh</th>\n",
       "      <td>30.0</td>\n",
       "    </tr>\n",
       "  </tbody>\n",
       "</table>\n",
       "</div>"
      ],
      "text/plain": [
       "            Age\n",
       "Religion       \n",
       "Bahai      43.0\n",
       "Baptist    24.0\n",
       "Buddist    26.0\n",
       "Catholic   41.0\n",
       "Christian  52.0\n",
       "Jewish     46.0\n",
       "Methodist  42.0\n",
       "Muslim     31.0\n",
       "None       24.0\n",
       "Orthodoxy  26.0\n",
       "Sikh       30.0"
      ]
     },
     "execution_count": 109,
     "metadata": {},
     "output_type": "execute_result"
    }
   ],
   "source": [
    "# Finding the median age of all religion followers\n",
    "\n",
    "df[['Religion', \"Age\"]].groupby(\"Religion\").median()"
   ]
  },
  {
   "cell_type": "code",
   "execution_count": 110,
   "id": "36dfa939",
   "metadata": {},
   "outputs": [
    {
     "data": {
      "image/png": "[encoded data removed]",
      "text/plain": [
       "<Figure size 1200x800 with 1 Axes>"
      ]
     },
     "metadata": {},
     "output_type": "display_data"
    }
   ],
   "source": [
    "# Plotting a boxplot of Ages against Religion \n",
    "\n",
    "plt.figure(dpi=200)\n",
    "religion_plot = sns.boxplot(data=df[df['Age'] >= 18], x='Age', y='Religion')\n",
    "plt.title('Religion by Age')\n",
    "plt.tight_layout()\n",
    "plt.show()\n",
    "\n",
    "save_fig['./religion_plot.png'] = religion_plot"
   ]
  },
  {
   "cell_type": "markdown",
   "id": "19387baa",
   "metadata": {},
   "source": [
    "### Infirmity & Retirement"
   ]
  },
  {
   "cell_type": "code",
   "execution_count": 111,
   "id": "f3ec0646",
   "metadata": {},
   "outputs": [
    {
     "data": {
      "text/html": [
       "<div>\n",
       "<style scoped>\n",
       "    .dataframe tbody tr th:only-of-type {\n",
       "        vertical-align: middle;\n",
       "    }\n",
       "\n",
       "    .dataframe tbody tr th {\n",
       "        vertical-align: top;\n",
       "    }\n",
       "\n",
       "    .dataframe thead th {\n",
       "        text-align: right;\n",
       "    }\n",
       "</style>\n",
       "<table border=\"1\" class=\"dataframe\">\n",
       "  <thead>\n",
       "    <tr style=\"text-align: right;\">\n",
       "      <th></th>\n",
       "      <th>Age</th>\n",
       "    </tr>\n",
       "    <tr>\n",
       "      <th>Infirmity</th>\n",
       "      <th></th>\n",
       "    </tr>\n",
       "  </thead>\n",
       "  <tbody>\n",
       "    <tr>\n",
       "      <th>Blind</th>\n",
       "      <td>25.5</td>\n",
       "    </tr>\n",
       "    <tr>\n",
       "      <th>Deaf</th>\n",
       "      <td>51.0</td>\n",
       "    </tr>\n",
       "    <tr>\n",
       "      <th>Disabled</th>\n",
       "      <td>18.0</td>\n",
       "    </tr>\n",
       "    <tr>\n",
       "      <th>Mental Disability</th>\n",
       "      <td>45.0</td>\n",
       "    </tr>\n",
       "    <tr>\n",
       "      <th>None</th>\n",
       "      <td>36.0</td>\n",
       "    </tr>\n",
       "    <tr>\n",
       "      <th>Physical Disability</th>\n",
       "      <td>37.5</td>\n",
       "    </tr>\n",
       "    <tr>\n",
       "      <th>Unknown Infection</th>\n",
       "      <td>26.0</td>\n",
       "    </tr>\n",
       "  </tbody>\n",
       "</table>\n",
       "</div>"
      ],
      "text/plain": [
       "                      Age\n",
       "Infirmity                \n",
       "Blind                25.5\n",
       "Deaf                 51.0\n",
       "Disabled             18.0\n",
       "Mental Disability    45.0\n",
       "None                 36.0\n",
       "Physical Disability  37.5\n",
       "Unknown Infection    26.0"
      ]
     },
     "execution_count": 111,
     "metadata": {},
     "output_type": "execute_result"
    }
   ],
   "source": [
    "# Finding the median age of all Infirmities  \n",
    "\n",
    "df[['Infirmity', \"Age\"]].groupby(\"Infirmity\").median()"
   ]
  },
  {
   "cell_type": "code",
   "execution_count": 112,
   "id": "1e166403",
   "metadata": {},
   "outputs": [
    {
     "data": {
      "text/html": [
       "<div>\n",
       "<style scoped>\n",
       "    .dataframe tbody tr th:only-of-type {\n",
       "        vertical-align: middle;\n",
       "    }\n",
       "\n",
       "    .dataframe tbody tr th {\n",
       "        vertical-align: top;\n",
       "    }\n",
       "\n",
       "    .dataframe thead th {\n",
       "        text-align: right;\n",
       "    }\n",
       "</style>\n",
       "<table border=\"1\" class=\"dataframe\">\n",
       "  <thead>\n",
       "    <tr style=\"text-align: right;\">\n",
       "      <th></th>\n",
       "      <th>No of Occupants</th>\n",
       "      <th>count of retirees</th>\n",
       "    </tr>\n",
       "  </thead>\n",
       "  <tbody>\n",
       "    <tr>\n",
       "      <th>0</th>\n",
       "      <td>1</td>\n",
       "      <td>324</td>\n",
       "    </tr>\n",
       "    <tr>\n",
       "      <th>1</th>\n",
       "      <td>2</td>\n",
       "      <td>296</td>\n",
       "    </tr>\n",
       "    <tr>\n",
       "      <th>2</th>\n",
       "      <td>3</td>\n",
       "      <td>55</td>\n",
       "    </tr>\n",
       "    <tr>\n",
       "      <th>3</th>\n",
       "      <td>4</td>\n",
       "      <td>38</td>\n",
       "    </tr>\n",
       "    <tr>\n",
       "      <th>4</th>\n",
       "      <td>5</td>\n",
       "      <td>32</td>\n",
       "    </tr>\n",
       "    <tr>\n",
       "      <th>5</th>\n",
       "      <td>6</td>\n",
       "      <td>10</td>\n",
       "    </tr>\n",
       "    <tr>\n",
       "      <th>6</th>\n",
       "      <td>18</td>\n",
       "      <td>8</td>\n",
       "    </tr>\n",
       "    <tr>\n",
       "      <th>7</th>\n",
       "      <td>11</td>\n",
       "      <td>4</td>\n",
       "    </tr>\n",
       "    <tr>\n",
       "      <th>8</th>\n",
       "      <td>10</td>\n",
       "      <td>3</td>\n",
       "    </tr>\n",
       "    <tr>\n",
       "      <th>9</th>\n",
       "      <td>15</td>\n",
       "      <td>2</td>\n",
       "    </tr>\n",
       "    <tr>\n",
       "      <th>10</th>\n",
       "      <td>22</td>\n",
       "      <td>2</td>\n",
       "    </tr>\n",
       "    <tr>\n",
       "      <th>11</th>\n",
       "      <td>8</td>\n",
       "      <td>1</td>\n",
       "    </tr>\n",
       "    <tr>\n",
       "      <th>12</th>\n",
       "      <td>12</td>\n",
       "      <td>1</td>\n",
       "    </tr>\n",
       "  </tbody>\n",
       "</table>\n",
       "</div>"
      ],
      "text/plain": [
       "    No of Occupants  count of retirees\n",
       "0                 1                324\n",
       "1                 2                296\n",
       "2                 3                 55\n",
       "3                 4                 38\n",
       "4                 5                 32\n",
       "5                 6                 10\n",
       "6                18                  8\n",
       "7                11                  4\n",
       "8                10                  3\n",
       "9                15                  2\n",
       "10               22                  2\n",
       "11                8                  1\n",
       "12               12                  1"
      ]
     },
     "execution_count": 112,
     "metadata": {},
     "output_type": "execute_result"
    }
   ],
   "source": [
    "# Checking the no of occupants in the homes of Retirees \n",
    "\n",
    "df[df['Occupation'] == 'Retired']['No of House Occupants'].value_counts().rename_axis('No of Occupants').reset_index(name='count of retirees')"
   ]
  },
  {
   "cell_type": "markdown",
   "id": "5cb4329e",
   "metadata": {},
   "source": [
    "### Housing Density by Marital Status"
   ]
  },
  {
   "cell_type": "code",
   "execution_count": 113,
   "id": "7964e6d4",
   "metadata": {},
   "outputs": [],
   "source": [
    "# Checking for homes that have no head of house \n",
    "\n",
    "address = df['Address'].unique().tolist() # making a list of all houses\n",
    "empty_address = [] # to be used to collect addresses with no head of house\n",
    "\n",
    "for add in address:\n",
    "    if df[(df['Address'] == add) & (df['Relationship to Head of House'] == 'Head')].empty:\n",
    "        empty_address.append(add) # appending to empty list\n",
    "        address.remove(add) # removing address from address list"
   ]
  },
  {
   "cell_type": "code",
   "execution_count": 114,
   "id": "cd969485",
   "metadata": {},
   "outputs": [],
   "source": [
    "# Making a dataframe to compile details about each house.   \n",
    "\n",
    "housing_ = []\n",
    "\n",
    "for add in address:\n",
    "    # extract index of head of house of every address\n",
    "    idx = df[(df['Address'] == add) & (df['Relationship to Head of House'] == 'Head')].index[0]\n",
    "    \n",
    "    # extract street name of head of house\n",
    "    street = df.iloc[idx]['Street']\n",
    "    \n",
    "    # using street information to get average number of occupants per street\n",
    "    mode = df[df['Street'] == street]['No of House Occupants'].mode()[0]\n",
    "    \n",
    "    \n",
    "    row = [add, # full address\n",
    "           len(df[df['Address'] == add]), # No of occupants\n",
    "           street, # street name\n",
    "           mode, # average number of occupants\n",
    "           df.iloc[idx]['Marital Status']] # Marital Status of Head of House\n",
    "    \n",
    "    housing_.append(row)\n",
    "\n",
    "columns = ['Address',\n",
    "           'No of Occupants',\n",
    "           'Street',\n",
    "           'Average Occupant per street',\n",
    "           'Marital Status of HOH']\n",
    "\n",
    "\n",
    "housing_df = pd.DataFrame(housing_, columns=columns) # convert list of list to dataframe."
   ]
  },
  {
   "cell_type": "code",
   "execution_count": 115,
   "id": "ca6467c1",
   "metadata": {},
   "outputs": [
    {
     "data": {
      "text/html": [
       "<div>\n",
       "<style scoped>\n",
       "    .dataframe tbody tr th:only-of-type {\n",
       "        vertical-align: middle;\n",
       "    }\n",
       "\n",
       "    .dataframe tbody tr th {\n",
       "        vertical-align: top;\n",
       "    }\n",
       "\n",
       "    .dataframe thead th {\n",
       "        text-align: right;\n",
       "    }\n",
       "</style>\n",
       "<table border=\"1\" class=\"dataframe\">\n",
       "  <thead>\n",
       "    <tr style=\"text-align: right;\">\n",
       "      <th></th>\n",
       "      <th>Address</th>\n",
       "      <th>No of Occupants</th>\n",
       "      <th>Street</th>\n",
       "      <th>Average Occupant per street</th>\n",
       "      <th>Marital Status of HOH</th>\n",
       "    </tr>\n",
       "  </thead>\n",
       "  <tbody>\n",
       "    <tr>\n",
       "      <th>0</th>\n",
       "      <td>1 Forgotten Gardens</td>\n",
       "      <td>3</td>\n",
       "      <td>Forgotten Gardens</td>\n",
       "      <td>3</td>\n",
       "      <td>Married</td>\n",
       "    </tr>\n",
       "    <tr>\n",
       "      <th>1</th>\n",
       "      <td>2 Forgotten Gardens</td>\n",
       "      <td>2</td>\n",
       "      <td>Forgotten Gardens</td>\n",
       "      <td>3</td>\n",
       "      <td>Divorced</td>\n",
       "    </tr>\n",
       "    <tr>\n",
       "      <th>2</th>\n",
       "      <td>3 Forgotten Gardens</td>\n",
       "      <td>1</td>\n",
       "      <td>Forgotten Gardens</td>\n",
       "      <td>3</td>\n",
       "      <td>Widowed</td>\n",
       "    </tr>\n",
       "    <tr>\n",
       "      <th>3</th>\n",
       "      <td>4 Forgotten Gardens</td>\n",
       "      <td>4</td>\n",
       "      <td>Forgotten Gardens</td>\n",
       "      <td>3</td>\n",
       "      <td>Divorced</td>\n",
       "    </tr>\n",
       "    <tr>\n",
       "      <th>4</th>\n",
       "      <td>5 Forgotten Gardens</td>\n",
       "      <td>3</td>\n",
       "      <td>Forgotten Gardens</td>\n",
       "      <td>3</td>\n",
       "      <td>Married</td>\n",
       "    </tr>\n",
       "    <tr>\n",
       "      <th>...</th>\n",
       "      <td>...</td>\n",
       "      <td>...</td>\n",
       "      <td>...</td>\n",
       "      <td>...</td>\n",
       "      <td>...</td>\n",
       "    </tr>\n",
       "    <tr>\n",
       "      <th>2907</th>\n",
       "      <td>1 Temple Rectory</td>\n",
       "      <td>5</td>\n",
       "      <td>Temple Rectory</td>\n",
       "      <td>5</td>\n",
       "      <td>Widowed</td>\n",
       "    </tr>\n",
       "    <tr>\n",
       "      <th>2908</th>\n",
       "      <td>1 Lee Villa</td>\n",
       "      <td>1</td>\n",
       "      <td>Lee Villa</td>\n",
       "      <td>1</td>\n",
       "      <td>Single</td>\n",
       "    </tr>\n",
       "    <tr>\n",
       "      <th>2909</th>\n",
       "      <td>1 Elephant Folly</td>\n",
       "      <td>5</td>\n",
       "      <td>Elephant Folly</td>\n",
       "      <td>5</td>\n",
       "      <td>Single</td>\n",
       "    </tr>\n",
       "    <tr>\n",
       "      <th>2910</th>\n",
       "      <td>1 Adams Cottage</td>\n",
       "      <td>3</td>\n",
       "      <td>Adams Cottage</td>\n",
       "      <td>3</td>\n",
       "      <td>Widowed</td>\n",
       "    </tr>\n",
       "    <tr>\n",
       "      <th>2911</th>\n",
       "      <td>1 Fletcher Farmhouse</td>\n",
       "      <td>5</td>\n",
       "      <td>Fletcher Farmhouse</td>\n",
       "      <td>5</td>\n",
       "      <td>Divorced</td>\n",
       "    </tr>\n",
       "  </tbody>\n",
       "</table>\n",
       "<p>2912 rows × 5 columns</p>\n",
       "</div>"
      ],
      "text/plain": [
       "                   Address  No of Occupants              Street  \\\n",
       "0      1 Forgotten Gardens                3   Forgotten Gardens   \n",
       "1      2 Forgotten Gardens                2   Forgotten Gardens   \n",
       "2      3 Forgotten Gardens                1   Forgotten Gardens   \n",
       "3      4 Forgotten Gardens                4   Forgotten Gardens   \n",
       "4      5 Forgotten Gardens                3   Forgotten Gardens   \n",
       "...                    ...              ...                 ...   \n",
       "2907      1 Temple Rectory                5      Temple Rectory   \n",
       "2908           1 Lee Villa                1           Lee Villa   \n",
       "2909      1 Elephant Folly                5      Elephant Folly   \n",
       "2910       1 Adams Cottage                3       Adams Cottage   \n",
       "2911  1 Fletcher Farmhouse                5  Fletcher Farmhouse   \n",
       "\n",
       "      Average Occupant per street Marital Status of HOH  \n",
       "0                               3               Married  \n",
       "1                               3              Divorced  \n",
       "2                               3               Widowed  \n",
       "3                               3              Divorced  \n",
       "4                               3               Married  \n",
       "...                           ...                   ...  \n",
       "2907                            5               Widowed  \n",
       "2908                            1                Single  \n",
       "2909                            5                Single  \n",
       "2910                            3               Widowed  \n",
       "2911                            5              Divorced  \n",
       "\n",
       "[2912 rows x 5 columns]"
      ]
     },
     "execution_count": 115,
     "metadata": {},
     "output_type": "execute_result"
    }
   ],
   "source": [
    "housing_df # display housing information"
   ]
  },
  {
   "cell_type": "code",
   "execution_count": 116,
   "id": "adc95506",
   "metadata": {},
   "outputs": [
    {
     "data": {
      "text/plain": [
       "2     850\n",
       "3     734\n",
       "1     650\n",
       "4     472\n",
       "5     203\n",
       "9       1\n",
       "7       1\n",
       "16      1\n",
       "Name: Average Occupant per street, dtype: int64"
      ]
     },
     "execution_count": 116,
     "metadata": {},
     "output_type": "execute_result"
    }
   ],
   "source": [
    "# display number of houses per street housing occupancy\n",
    "\n",
    "housing_df['Average Occupant per street'].value_counts() "
   ]
  },
  {
   "cell_type": "code",
   "execution_count": 117,
   "id": "62bc4e0e",
   "metadata": {},
   "outputs": [
    {
     "data": {
      "image/png": "[encoded data removed]",
      "text/plain": [
       "<Figure size 360x360 with 2 Axes>"
      ]
     },
     "metadata": {},
     "output_type": "display_data"
    }
   ],
   "source": [
    "# plotting average occupancy per street against Number of occupants\n",
    "\n",
    "occupancy_plot = sns.displot(housing_df, \n",
    "                             x='Average Occupant per street', \n",
    "                             y='No of Occupants', \n",
    "                             binwidth=(2, .5),\n",
    "                             cbar=True)\n",
    "\n",
    "plt.title('Housing Occupancy')\n",
    "plt.show()\n",
    "\n",
    "save_fig['./occupancy_plot.png'] = occupancy_plot"
   ]
  },
  {
   "cell_type": "code",
   "execution_count": 118,
   "id": "cd38247d",
   "metadata": {},
   "outputs": [
    {
     "data": {
      "text/plain": [
       "<Figure size 1200x800 with 0 Axes>"
      ]
     },
     "metadata": {},
     "output_type": "display_data"
    },
    {
     "data": {
      "image/png": "[encoded data removed]",
      "text/plain": [
       "<Figure size 648x432 with 6 Axes>"
      ]
     },
     "metadata": {},
     "output_type": "display_data"
    }
   ],
   "source": [
    "# plotting Number of Occupants per street against Age conditioned by Marital Status\n",
    "\n",
    "plt.figure(dpi=200)\n",
    "plot = sns.FacetGrid(df, \n",
    "                      col='Marital Status', \n",
    "                      hue='Marital Status',\n",
    "                      col_wrap=3)\n",
    "\n",
    "plot.map(sns.scatterplot, \"No of House Occupants\", \"Age\")\n",
    "plot.fig.subplots_adjust(top=0.9)\n",
    "plot.fig.suptitle('Housing Occupancy by Age')\n",
    "\n",
    "\n",
    "save_fig['./age_occupancy_plot.png'] = plot"
   ]
  },
  {
   "cell_type": "markdown",
   "id": "a4a1958b",
   "metadata": {},
   "source": [
    "### Exporting plots as images"
   ]
  },
  {
   "cell_type": "code",
   "execution_count": 119,
   "id": "ab33ba2b",
   "metadata": {},
   "outputs": [],
   "source": [
    "for fig in save_fig:  \n",
    "    try:\n",
    "        save_fig[fig].savefig(fig)\n",
    "        \n",
    "    # if plot is AxesSubplot\n",
    "    except AttributeError: \n",
    "        save_fig[fig].get_figure().savefig(fig)"
   ]
  }
 ],
 "metadata": {
  "kernelspec": {
   "display_name": "Python 3",
   "language": "python",
   "name": "python3"
  },
  "language_info": {
   "codemirror_mode": {
    "name": "ipython",
    "version": 3
   },
   "file_extension": ".py",
   "mimetype": "text/x-python",
   "name": "python",
   "nbconvert_exporter": "python",
   "pygments_lexer": "ipython3",
   "version": "3.8.8"
  }
 },
 "nbformat": 4,
 "nbformat_minor": 5
}
